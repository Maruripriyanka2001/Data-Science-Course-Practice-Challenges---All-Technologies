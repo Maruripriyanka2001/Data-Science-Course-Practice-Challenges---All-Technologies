{
 "cells": [
  {
   "cell_type": "code",
   "execution_count": null,
   "id": "c98d2d12-36be-4692-a543-ee9ee8c26a0c",
   "metadata": {},
   "outputs": [],
   "source": [
    "###########################Task 1########################\n",
    "\n",
    "A committee of 5 people is to be chosen from a group of 6 men and 4 women. How many committees are possible if:\n",
    "\n",
    "a) There are to be 3 men and 2 women?\n",
    "b) There are to be men only?\n",
    "c) There is to be a majority of women?\n",
    "\n",
    "Select the correct answer from the following options:\n",
    "\n",
    "1)666, 6, 66\n",
    "2)120, 6, 66\n",
    "3)6, 666, 66\n",
    "4)6, 66, 120"
   ]
  },
  {
   "cell_type": "code",
   "execution_count": 3,
   "id": "7833d876-489b-422d-ac85-410da8301e19",
   "metadata": {},
   "outputs": [
    {
     "name": "stdout",
     "output_type": "stream",
     "text": [
      "120\n"
     ]
    }
   ],
   "source": [
    "#a) There are to be 3 men and 2 women?\n",
    "from math import comb\n",
    "mens = comb(6, 3)  # Choosing 3 men out of 6\n",
    "womens = comb(4, 2)  # Choosing 2 women out of 4\n",
    "a = mens * womens\n",
    "print(a)"
   ]
  },
  {
   "cell_type": "code",
   "execution_count": 3,
   "id": "352c75f4-db95-4ba8-a0e2-34b89abd668b",
   "metadata": {},
   "outputs": [
    {
     "data": {
      "text/plain": [
       "6"
      ]
     },
     "execution_count": 3,
     "metadata": {},
     "output_type": "execute_result"
    }
   ],
   "source": [
    "#b) There are to be men only?\n",
    "mens = comb(6, 5) \n",
    "mens"
   ]
  },
  {
   "cell_type": "code",
   "execution_count": 4,
   "id": "b7a7cb59-0bdd-4777-a728-c4583033da1c",
   "metadata": {},
   "outputs": [
    {
     "data": {
      "text/plain": [
       "60"
      ]
     },
     "execution_count": 4,
     "metadata": {},
     "output_type": "execute_result"
    }
   ],
   "source": [
    "#c) There is to be a majority of women?\n",
    "women = comb(4, 3)  # Choosing 3 women out of 4\n",
    "men = comb(6, 2)  # Choosing 2 men out of 6\n",
    "c= women * men\n",
    "c"
   ]
  },
  {
   "cell_type": "code",
   "execution_count": null,
   "id": "6a6b5f30-ae66-491c-a4cc-13e73134761f",
   "metadata": {},
   "outputs": [],
   "source": [
    "#################TASK2###################\n",
    "Five-card stud is a poker game in which a player deals with 5 cards from an ordinary deck of 52 playing cards. How many distinct ways are possible in which a player can deal with 5 cards from a deck of 52 playing cards?\n",
    "\n",
    "Note: In this problem, the order of dealing cards is NOT important. Select the correct answer from the following options:\n",
    "\n",
    "1)2,598,000\n",
    "2)2,000,960\n",
    "3)2,598,960\n",
    "4)2,500,960\n"
   ]
  },
  {
   "cell_type": "code",
   "execution_count": 6,
   "id": "ed1e940c-8519-4031-b654-aeb8a2dcd5ac",
   "metadata": {},
   "outputs": [
    {
     "data": {
      "text/plain": [
       "2598960"
      ]
     },
     "execution_count": 6,
     "metadata": {},
     "output_type": "execute_result"
    }
   ],
   "source": [
    "cards = comb(52, 5)  # Number of ways to choose 5 cards from 52\n",
    "cards"
   ]
  },
  {
   "cell_type": "code",
   "execution_count": null,
   "id": "ea35c5b1-ada3-4067-9009-b316e67f71dd",
   "metadata": {},
   "outputs": [],
   "source": [
    "#####################Task 3###################\n",
    "\n",
    "Consider the following 8 contestants for a sports event: Alice, Ava, Charlie, David, Eve, Frank, George, Mia.\n",
    "\n",
    "There are three types of prizes: 1st (Gold), 2nd (Silver), and 3rd (Bronze). In how many ways can you award these three prizes to the above 8 contestants?\n",
    "\n",
    "Select the correct answer from the following options:\n",
    "\n",
    "236\n",
    "336\n",
    "436\n",
    "536"
   ]
  },
  {
   "cell_type": "code",
   "execution_count": 2,
   "id": "f570bf49-de84-42d6-9039-64a33a3c1ef4",
   "metadata": {},
   "outputs": [
    {
     "data": {
      "text/plain": [
       "336"
      ]
     },
     "execution_count": 2,
     "metadata": {},
     "output_type": "execute_result"
    }
   ],
   "source": [
    "from math import perm\n",
    "sports=perm(8,3)\n",
    "sports"
   ]
  },
  {
   "cell_type": "code",
   "execution_count": null,
   "id": "77b8d65e-21bc-4f98-b96d-fc52f4a671fe",
   "metadata": {},
   "outputs": [],
   "source": [
    "#\n",
    "#####################Task 4#####################\n",
    "\n",
    "There are 15 students in a class. Two of them are Jenny and David, who don’t get along very well. In how many ways can the teacher arrange the students in a row so that Jenny and David are not together?\n",
    "\n",
    "Select the correct answer from the following options:\n",
    "11,00,31,77,85,600\n",
    "\n",
    "11,11,31,77,85,600\n",
    "\n",
    "11,00,31,77,85,600\n",
    "\n",
    "11,11,31,77,85,600\n"
   ]
  },
  {
   "cell_type": "code",
   "execution_count": 25,
   "id": "bce236b8-70a2-4087-8e94-c79530ff30ac",
   "metadata": {},
   "outputs": [
    {
     "name": "stdout",
     "output_type": "stream",
     "text": [
      "Total arrangements where Jenny and David are NOT together: 1133317785600\n"
     ]
    }
   ],
   "source": [
    "from math import factorial\n",
    "total_students = 15\n",
    "total_arrangements = factorial(total_students)\n",
    "students_with_block = total_students - 1\n",
    "arrangements_with_block = factorial(students_with_block) * 2  \n",
    "arrangements_not_together = total_arrangements - arrangements_with_block\n",
    "print(\"Total arrangements where Jenny and David are NOT together:\", arrangements_not_together)\n"
   ]
  },
  {
   "cell_type": "code",
   "execution_count": null,
   "id": "33d6f216-97b0-4170-a3b8-9ec38342234c",
   "metadata": {},
   "outputs": [],
   "source": [
    "####################Task 5#########################\n",
    "\n",
    "Suppose two dice are rolled together. What would be the probability if the number obtained on one of the dice is thrice the number obtained on the other side?\n",
    "\n",
    "Select the correct answer from the following options:\n",
    "\n",
    "1/4\n",
    "1/6\n",
    "1/9\n",
    "1/36"
   ]
  },
  {
   "cell_type": "code",
   "execution_count": 10,
   "id": "dce5b885-216a-462e-8c27-f439d892458b",
   "metadata": {},
   "outputs": [
    {
     "name": "stdout",
     "output_type": "stream",
     "text": [
      "Probability is: 1/9\n"
     ]
    }
   ],
   "source": [
    "from fractions import Fraction\n",
    "total_outcomes = 36\n",
    "valid_outcomes_count = 4\n",
    "probability = Fraction(valid_outcomes_count, total_outcomes)\n",
    "print(f\"Probability is: {probability}\")\n"
   ]
  },
  {
   "cell_type": "code",
   "execution_count": null,
   "id": "db7330c6-4816-4a67-bea8-58f3ea8f37f8",
   "metadata": {},
   "outputs": [],
   "source": [
    "########################Task 6#######################\n",
    "\n",
    "Suppose there are 7 consonants and 4 vowels in a word. How many words can be formed with 3 consonants and 2 vowels?"
   ]
  },
  {
   "cell_type": "code",
   "execution_count": 11,
   "id": "a664ebbd-c8e7-4658-b0b7-e2f2d89e27bf",
   "metadata": {},
   "outputs": [
    {
     "name": "stdout",
     "output_type": "stream",
     "text": [
      "Ways to choose 3 consonants: 35\n",
      "Ways to choose 2 vowels: 6\n",
      "Ways to arrange the 5 letters: 120\n",
      "Total number of words that can be formed: 25200\n"
     ]
    }
   ],
   "source": [
    "from math import comb, perm\n",
    "\n",
    "total_consonants = 7\n",
    "total_vowels = 4\n",
    "ways_to_choose_consonants = comb(total_consonants, 3)  \n",
    "ways_to_choose_vowels = comb(total_vowels, 2)        \n",
    "ways_to_arrange_letters = perm(5, 5) \n",
    "total_words = ways_to_choose_consonants * ways_to_choose_vowels * ways_to_arrange_letters\n",
    "\n",
    "print(f\"Ways to choose 3 consonants: {ways_to_choose_consonants}\")\n",
    "print(f\"Ways to choose 2 vowels: {ways_to_choose_vowels}\")\n",
    "print(f\"Ways to arrange the 5 letters: {ways_to_arrange_letters}\")\n",
    "print(f\"Total number of words that can be formed: {total_words}\")\n"
   ]
  },
  {
   "cell_type": "code",
   "execution_count": null,
   "id": "38b7b216-55d3-4974-972a-d8c2530c5bf4",
   "metadata": {},
   "outputs": [],
   "source": [
    "########################Task 7############\n",
    "A pack of 25 bulbs contains 25% defective bulbs. A bulb is drawn randomly from the pack of 25 bulbs. The drawn bulb is non-defective, and it is not placed back in the pack. If one more bulb is drawn randomly, what would be the probability that this bulb is also non-defective?\n",
    "\n",
    "Options:\n",
    "\n",
    "18/24\n",
    "19/25\n",
    "18/24\n",
    "19/25"
   ]
  },
  {
   "cell_type": "code",
   "execution_count": 16,
   "id": "1ea80815-7818-491b-aadc-9ce061e84bdc",
   "metadata": {},
   "outputs": [
    {
     "data": {
      "text/plain": [
       "'18/24'"
      ]
     },
     "execution_count": 16,
     "metadata": {},
     "output_type": "execute_result"
    }
   ],
   "source": [
    "\n",
    "total_bulbs = 25\n",
    "defective_bulbs = 25 * 25 // 100 \n",
    "non_defective_bulbs = total_bulbs - defective_bulbs\n",
    "remaining_non_defective = non_defective_bulbs - 1\n",
    "remaining_bulbs = total_bulbs - 1\n",
    "probability = f\"{remaining_non_defective}/{remaining_bulbs}\"\n",
    "probability\n",
    "\n",
    "\n",
    "\n"
   ]
  },
  {
   "cell_type": "code",
   "execution_count": null,
   "id": "40ce512d-4cda-49f6-9173-cfa0ce2d9ed6",
   "metadata": {},
   "outputs": [],
   "source": [
    "#################Task 8######################\n",
    "#Consider that 46% of the U.S. labor force is female and 25% of the females are part-time. In addition, 17.4% of all American laborers are known to be part-time workers. If a part-time worker is randomly selected, what is the probability that the worker is female?"
   ]
  },
  {
   "cell_type": "code",
   "execution_count": 20,
   "id": "33c72f33-e72e-4b7a-9933-ba88d78be371",
   "metadata": {},
   "outputs": [
    {
     "name": "stdout",
     "output_type": "stream",
     "text": [
      "Probability that a randomly selected part-time worker is female: 0.66\n"
     ]
    }
   ],
   "source": [
    "female = 0.46  \n",
    "part_time_female = 0.25  \n",
    "part_time_workers = 0.174 \n",
    "worker = female * part_time_female\n",
    "probability = worker / part_time_workers\n",
    "print(f\"Probability that a randomly selected part-time worker is female: {probability:.2f}\")\n"
   ]
  },
  {
   "cell_type": "code",
   "execution_count": null,
   "id": "abd73e47-d806-4dd6-b566-cbd0d79e4b55",
   "metadata": {},
   "outputs": [],
   "source": [
    "##################Task 9########################\n",
    "\n",
    "NIX Partners researched to determine which office design changes would increase productivity. During the examination:\n",
    "\n",
    "70% of respondents believed that reducing noise would increase productivity.\n",
    "67% said that more storage space would increase productivity.\n",
    "56% of respondents believe that reducing noise and increasing storage space will increase productivity."
   ]
  },
  {
   "cell_type": "code",
   "execution_count": 22,
   "id": "8add7aa1-57fb-4d19-8dbc-16164bae3e04",
   "metadata": {},
   "outputs": [
    {
     "name": "stdout",
     "output_type": "stream",
     "text": [
      "Probability that either reducing noise or more storage space increases productivity: 0.81\n"
     ]
    }
   ],
   "source": [
    "\n",
    "noise = 0.70  \n",
    "storage = 0.67  \n",
    "both = 0.56 \n",
    "either = noise + storage - both\n",
    "print(f\"Probability that either reducing noise or more storage space increases productivity: {either:.2f}\")\n"
   ]
  },
  {
   "cell_type": "code",
   "execution_count": null,
   "id": "56213d29-68ee-4b7e-8a44-d036aa21a7a1",
   "metadata": {},
   "outputs": [],
   "source": [
    "############################Task 9 (Cont’d)########################\n",
    "\n",
    "A worker is randomly selected and asked about changes in the office design. \n",
    "The worker believes that reducing noise will increase productivity. \n",
    "What is the probability that the worker also believes that more storage space will increase productivity?"
   ]
  },
  {
   "cell_type": "code",
   "execution_count": 24,
   "id": "cd845fdc-b51a-4a00-959e-17a3136ba168",
   "metadata": {},
   "outputs": [
    {
     "name": "stdout",
     "output_type": "stream",
     "text": [
      "Probability that a worker believes more storage space increases productivity given they believe reducing noise will: 0.80\n"
     ]
    }
   ],
   "source": [
    "\n",
    "noise = 0.70 \n",
    "both = 0.56  \n",
    "storage_given_noise = both / noise\n",
    "\n",
    "print(f\"Probability that a worker believes more storage space increases productivity given they believe reducing noise will: {storage_given_noise:.2f}\")\n"
   ]
  },
  {
   "cell_type": "code",
   "execution_count": null,
   "id": "088c9e80-9dfd-4538-864a-aae3b5e2b749",
   "metadata": {},
   "outputs": [],
   "source": []
  }
 ],
 "metadata": {
  "kernelspec": {
   "display_name": "Python 3 (ipykernel)",
   "language": "python",
   "name": "python3"
  },
  "language_info": {
   "codemirror_mode": {
    "name": "ipython",
    "version": 3
   },
   "file_extension": ".py",
   "mimetype": "text/x-python",
   "name": "python",
   "nbconvert_exporter": "python",
   "pygments_lexer": "ipython3",
   "version": "3.12.4"
  }
 },
 "nbformat": 4,
 "nbformat_minor": 5
}

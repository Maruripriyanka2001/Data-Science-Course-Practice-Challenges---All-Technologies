{
 "cells": [
  {
   "cell_type": "code",
   "execution_count": 1,
   "id": "44467b9b-3aff-48c6-8551-86f76791f6bc",
   "metadata": {},
   "outputs": [],
   "source": [
    "import pandas as pd\n",
    "import math\n",
    "from scipy.stats import norm"
   ]
  },
  {
   "cell_type": "code",
   "execution_count": null,
   "id": "be4ea7ab-94b3-4fc1-ba4b-962c4e448fad",
   "metadata": {},
   "outputs": [],
   "source": [
    "#TASK1"
   ]
  },
  {
   "cell_type": "code",
   "execution_count": 6,
   "id": "f7065903-fb32-486a-9d88-27c9c877f399",
   "metadata": {},
   "outputs": [],
   "source": [
    "population_mean=33.88\n",
    "std_dev=1.28\n",
    "n=49 #sample size\n",
    "sample_mean=32.18\n",
    "alpha=0.05"
   ]
  },
  {
   "cell_type": "code",
   "execution_count": 18,
   "id": "f2dfcb5d-a658-48a8-841f-69b7f7449787",
   "metadata": {},
   "outputs": [],
   "source": [
    "#TASK1_A#\n",
    "Z_Stat=(sample_mean - population_mean) / (std_dev / math.sqrt(n))\n",
    "Z_Crit=norm.ppf(alpha/2)\n",
    "P_val=norm.sf(abs(Z_Stat))"
   ]
  },
  {
   "cell_type": "code",
   "execution_count": 19,
   "id": "63ce480d-991f-45e1-9afe-47ff93affa48",
   "metadata": {},
   "outputs": [
    {
     "name": "stdout",
     "output_type": "stream",
     "text": [
      "-9.296875000000016\n",
      "7.231705434385679e-21\n",
      "-1.9599639845400545\n",
      "reject the null hypothesis\n"
     ]
    }
   ],
   "source": [
    "print(Z_Stat)\n",
    "print(P_val)\n",
    "print(Z_Crit)\n",
    "\n",
    "if (Z_Stat<Z_Crit) and (P_val>alpha):\n",
    "    print(\"Accept null hypothesis\")\n",
    "else:\n",
    "    print(\"reject the null hypothesis\")"
   ]
  },
  {
   "cell_type": "code",
   "execution_count": 21,
   "id": "3737d15b-502a-4770-ac3a-c76e267f22f6",
   "metadata": {},
   "outputs": [
    {
     "data": {
      "text/plain": [
       "-1.9599639845400545"
      ]
     },
     "execution_count": 21,
     "metadata": {},
     "output_type": "execute_result"
    }
   ],
   "source": [
    "#TASK1_B# what is the critical value for Alpha=0.05\n",
    "Z_Crit=norm.ppf(alpha/2)\n",
    "Z_Crit"
   ]
  },
  {
   "cell_type": "code",
   "execution_count": 22,
   "id": "23a96433-533e-4b3a-b5c6-7405351077bc",
   "metadata": {},
   "outputs": [
    {
     "data": {
      "text/plain": [
       "-9.296875000000016"
      ]
     },
     "execution_count": 22,
     "metadata": {},
     "output_type": "execute_result"
    }
   ],
   "source": [
    "#TASK1_C# What are test statistics for the hypothesis test\n",
    "Z_Stat=(sample_mean - population_mean) / (std_dev / math.sqrt(n))\n",
    "Z_Stat"
   ]
  },
  {
   "cell_type": "code",
   "execution_count": 23,
   "id": "bf6a7e97-6756-4b92-992d-c80eee51176b",
   "metadata": {},
   "outputs": [
    {
     "data": {
      "text/plain": [
       "7.231705434385679e-21"
      ]
     },
     "execution_count": 23,
     "metadata": {},
     "output_type": "execute_result"
    }
   ],
   "source": [
    "#TASK1_D WHAT IS THE P_VALUE\n",
    "P_val=norm.sf(abs(Z_Stat))\n",
    "P_val"
   ]
  },
  {
   "cell_type": "code",
   "execution_count": null,
   "id": "a718e5f0-f09e-4a6a-b4f5-6214e2a45a48",
   "metadata": {},
   "outputs": [],
   "source": [
    "#TASK2#################"
   ]
  },
  {
   "cell_type": "code",
   "execution_count": null,
   "id": "53ab8e3a-84d8-4b12-8c21-16382d1f4d28",
   "metadata": {},
   "outputs": [],
   "source": [
    "population_mean=85\n",
    "std_dev=2.1\n",
    "n=32 #sample size\n",
    "sample_mean=87.5\n",
    "alpha=0.05"
   ]
  },
  {
   "cell_type": "code",
   "execution_count": 26,
   "id": "3058fbaf-8e02-4e6b-9e24-718fdf3c29d0",
   "metadata": {},
   "outputs": [],
   "source": [
    "Z_Stat=(sample_mean - population_mean) / (std_dev / math.sqrt(n))\n",
    "Z_Crit=norm.ppf(alpha)\n",
    "P_val=norm.sf(abs(Z_Stat))\n",
    "\n"
   ]
  },
  {
   "cell_type": "code",
   "execution_count": 27,
   "id": "4ac4e124-d9c8-4977-9069-da1c8632ea5e",
   "metadata": {},
   "outputs": [
    {
     "name": "stdout",
     "output_type": "stream",
     "text": [
      "-9.296875000000016\n",
      "7.231705434385679e-21\n",
      "-1.6448536269514729\n",
      "reject the null hypothesis\n"
     ]
    }
   ],
   "source": [
    "print(Z_Stat)\n",
    "print(P_val)\n",
    "print(Z_Crit)\n",
    "\n",
    "if (Z_Stat<Z_Crit) and (P_val>alpha):\n",
    "    print(\"Accept null hypothesis\")\n",
    "else:\n",
    "    print(\"reject the null hypothesis\")"
   ]
  },
  {
   "cell_type": "code",
   "execution_count": 28,
   "id": "12b1a255-a663-49f0-b731-d927becd757f",
   "metadata": {},
   "outputs": [
    {
     "data": {
      "text/plain": [
       "-1.6448536269514729"
      ]
     },
     "execution_count": 28,
     "metadata": {},
     "output_type": "execute_result"
    }
   ],
   "source": [
    "#TASK2_B# what is the critical value for Alpha=0.05\n",
    "Z_Crit=norm.ppf(alpha)\n",
    "Z_Crit"
   ]
  },
  {
   "cell_type": "code",
   "execution_count": 29,
   "id": "5c28e9c5-8e08-4bcb-b086-1b7f06530f54",
   "metadata": {},
   "outputs": [
    {
     "data": {
      "text/plain": [
       "-9.296875000000016"
      ]
     },
     "execution_count": 29,
     "metadata": {},
     "output_type": "execute_result"
    }
   ],
   "source": [
    "#TASK2_C# What are test statistics for the hypothesis test\n",
    "Z_Stat=(sample_mean - population_mean) / (std_dev / math.sqrt(n))\n",
    "Z_Stat"
   ]
  },
  {
   "cell_type": "code",
   "execution_count": 30,
   "id": "27855c40-31bf-4661-8b42-3a034aabde16",
   "metadata": {},
   "outputs": [
    {
     "data": {
      "text/plain": [
       "7.231705434385679e-21"
      ]
     },
     "execution_count": 30,
     "metadata": {},
     "output_type": "execute_result"
    }
   ],
   "source": [
    "#TASK1_D WHAT IS THE P_VALUE\n",
    "P_val=norm.sf(abs(Z_Stat))\n",
    "P_val"
   ]
  },
  {
   "cell_type": "code",
   "execution_count": null,
   "id": "e749caa0-a924-4689-9e5c-5b0da73031df",
   "metadata": {},
   "outputs": [],
   "source": [
    "INTERPRETTAION: From that it ientified that it rejects null hypothesis"
   ]
  }
 ],
 "metadata": {
  "kernelspec": {
   "display_name": "Python 3 (ipykernel)",
   "language": "python",
   "name": "python3"
  },
  "language_info": {
   "codemirror_mode": {
    "name": "ipython",
    "version": 3
   },
   "file_extension": ".py",
   "mimetype": "text/x-python",
   "name": "python",
   "nbconvert_exporter": "python",
   "pygments_lexer": "ipython3",
   "version": "3.12.4"
  }
 },
 "nbformat": 4,
 "nbformat_minor": 5
}

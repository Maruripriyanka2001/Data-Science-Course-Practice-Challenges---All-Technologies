{
 "cells": [
  {
   "cell_type": "code",
   "execution_count": null,
   "id": "409400cb-4a5c-4af5-bf3f-1fe526b01032",
   "metadata": {},
   "outputs": [],
   "source": [
    "#Hypothesis Testing: Students' Scores Analysis\n",
    "#TASK1"
   ]
  },
  {
   "cell_type": "markdown",
   "id": "be2ef796-7ea0-405f-a186-00a06773011e",
   "metadata": {},
   "source": [
    "\n",
    "Sample scores: 61,93,75,67,84,95,61,93,75,67,84,95\n",
    "Hypothesized mean (μ0​) = 71\n",
    "Sample size (n) = 6\n",
    "Confidence level = 90% \n",
    "Significance level (α) = 0.10\n",
    "One-tailed test (checking if the mean is greater than 71)."
   ]
  },
  {
   "cell_type": "code",
   "execution_count": null,
   "id": "ff8046dc-530c-4161-9882-1a12d2e39725",
   "metadata": {},
   "outputs": [],
   "source": [
    "#TASK1_A What is the null and alternate hypothesis to determine if the mean score for the class test would be above 71?\n",
    "a) Null and Alternate Hypotheses\n",
    "Null Hypothesis (H0): The mean score is not greater than 71.\n",
    "H0:mu<=71\n",
    "Alternate Hypothesis (Ha): The mean score is greater than 71.\n",
    "Ha:mu>71\n",
    "This is a one-tailed test (right-tailed)."
   ]
  },
  {
   "cell_type": "code",
   "execution_count": 4,
   "id": "220cca12-1620-4e90-86ed-a9a24867aa26",
   "metadata": {},
   "outputs": [
    {
     "data": {
      "text/plain": [
       "1.4758840488558216"
      ]
     },
     "execution_count": 4,
     "metadata": {},
     "output_type": "execute_result"
    }
   ],
   "source": [
    "#b) For alpha = 0.1, what is the critical value of the hypothesis test?\n",
    "t_critical = stats.t.ppf(1 - alpha, df)\n",
    "t_critical"
   ]
  },
  {
   "cell_type": "code",
   "execution_count": 5,
   "id": "ee29bbeb-9c48-41c7-b7c9-97df0dc405b8",
   "metadata": {},
   "outputs": [
    {
     "name": "stdout",
     "output_type": "stream",
     "text": [
      "Sample Mean: 79.17\n",
      "Sample Standard Deviation: 13.86\n",
      "Test Statistic (t): 1.44\n",
      "Critical t-value: 1.48\n",
      "P-value: 0.1043\n"
     ]
    }
   ],
   "source": [
    "#c) What are the test statistic and p-value for the hypothesis test?\n",
    "import numpy as np\n",
    "import scipy.stats as stats\n",
    "\n",
    "scores = np.array([61, 93, 75, 67, 84, 95])\n",
    "mu0 = 71  # Hypothesized mean\n",
    "alpha = 0.10  # Significance level\n",
    "n = len(scores)\n",
    "df = n - 1  \n",
    "x_mean = np.mean(scores)\n",
    "s = np.std(scores, ddof=1)  # Sample standard deviation\n",
    "t_stat = (x_mean - mu0) / (s / np.sqrt(n)) # Test Statistic\n",
    "t_critical = stats.t.ppf(1 - alpha, df) # Critical Value\n",
    "p_value = 1 - stats.t.cdf(t_stat, df) # P-value\n",
    "print(f\"Sample Mean: {x_mean:.2f}\")\n",
    "print(f\"Sample Standard Deviation: {s:.2f}\")\n",
    "print(f\"Test Statistic (t): {t_stat:.2f}\")\n",
    "print(f\"Critical t-value: {t_critical:.2f}\")\n",
    "print(f\"P-value: {p_value:.4f}\")"
   ]
  },
  {
   "cell_type": "code",
   "execution_count": 7,
   "id": "323db50f-8702-410a-81ff-ea9ba811a4a2",
   "metadata": {},
   "outputs": [
    {
     "name": "stdout",
     "output_type": "stream",
     "text": [
      "Fail to reject the null hypothesis\n"
     ]
    }
   ],
   "source": [
    "#d) Draw the conclusion for the hypothesis test and plot the distribution.\n",
    "if t_stat > t_critical or p_value < alpha:\n",
    "    print(\"Reject the null hypothesis\")\n",
    "else:\n",
    "    print(\"Fail to reject the null hypothesis\")\n"
   ]
  },
  {
   "cell_type": "markdown",
   "id": "823b5ea6-68a7-4e3f-aaa2-efeb0088718e",
   "metadata": {},
   "source": [
    "##############TASK2##############\n",
    "Hypothesis Testing: Students' Scores Analysis\n",
    "The sample data is as follows:\n",
    "\n",
    "Batch- 1\n",
    "9 9 9 36 45 48 51 57 69 72 96\n",
    "Batch- 2\n",
    "60 39 39 60 79 96 69 60 75 45 90\n",
    "Note: You have to populate two lists with the data provided above for two batches. Consider the same problem stated in task 1. Now, Oscar wants to determine whether the average scores for two batches are the same.He has randomly selected scores of 11 students as sample data from each of two batches, Batch-I and Batch-II.\n",
    "\n",
    "Use a 90% confidence level to test the hypotheses and perform the following sub-tasks.\n",
    "\n"
   ]
  },
  {
   "cell_type": "code",
   "execution_count": null,
   "id": "2f79de45-3c3c-4f43-b524-4b2eb1243b13",
   "metadata": {},
   "outputs": [],
   "source": [
    "#a) What is the null and alternate hypothesis?\n",
    "Null Hypothesis (H0): The mean scores of Batch-I and Batch-II are the same.\n",
    "Alternate Hypothesis (Ha): The mean scores of Batch-I and Batch-II are different.\n",
    "This is a two-tailed test."
   ]
  },
  {
   "cell_type": "code",
   "execution_count": 14,
   "id": "ca2e66a4-7990-44cc-886d-c2a72f3b8b4e",
   "metadata": {},
   "outputs": [],
   "source": [
    "#b) What is the critical value of the hypothesis test?\n",
    "t_critical = stats.t.ppf(1 - alpha / 2, df)"
   ]
  },
  {
   "cell_type": "code",
   "execution_count": 10,
   "id": "c7d2c564-9d5b-4988-9252-de72d4fd71ef",
   "metadata": {},
   "outputs": [],
   "source": [
    "import numpy as np\n",
    "import scipy.stats as stats\n",
    "\n",
    "batch_1 = [9, 9, 9, 36, 45, 48, 51, 57, 69, 72, 96]\n",
    "batch_2 = [60, 39, 39, 60, 79, 96, 69, 60, 75, 45, 90]\n",
    "\n",
    "n1 = len(batch_1)\n",
    "n2 = len(batch_2)\n",
    "\n",
    "# Sample means and standard deviations\n",
    "mean_1 = np.mean(batch_1)\n",
    "mean_2 = np.mean(batch_2)\n",
    "std_1 = np.std(batch_1, ddof=1)\n",
    "std_2 = np.std(batch_2, ddof=1)"
   ]
  },
  {
   "cell_type": "code",
   "execution_count": null,
   "id": "03728745-fa44-47fa-b6e6-73eb1e782d69",
   "metadata": {},
   "outputs": [],
   "source": [
    "#c) What is the test statistic and p-value for the hypothesis test?"
   ]
  },
  {
   "cell_type": "code",
   "execution_count": 12,
   "id": "cdbc4854-81be-450f-b1b8-01a004419de6",
   "metadata": {},
   "outputs": [],
   "source": [
    "t_stat = (mean_1 - mean_2) / np.sqrt((std_1**2 / n1) + (std_2**2 / n2))\n",
    "df = ((std_1**2 / n1) + (std_2**2 / n2))**2 / (\n",
    "    ((std_1**2 / n1)**2 / (n1 - 1)) + ((std_2**2 / n2)**2 / (n2 - 1))\n",
    ")\n",
    "# Critical value for two-tailed test\n",
    "alpha = 0.10\n",
    "t_critical = stats.t.ppf(1 - alpha / 2, df)\n",
    "\n",
    "# P-value\n",
    "p_value = 2 * (1 - stats.t.cdf(abs(t_stat), df))"
   ]
  },
  {
   "cell_type": "code",
   "execution_count": 13,
   "id": "885d5751-35c4-4586-9eec-9d9247a0eda8",
   "metadata": {},
   "outputs": [
    {
     "name": "stdout",
     "output_type": "stream",
     "text": [
      "Reject the null hypothesis: There is a significant difference between the batch means.\n"
     ]
    }
   ],
   "source": [
    "#d) Draw the conclusion for the hypothesis test and plot the distribution\n",
    "if abs(t_stat) > t_critical or p_value < alpha:\n",
    "    print(\"Reject the null hypothesis: There is a significant difference between the batch means.\")\n",
    "else:\n",
    "    print(\"Fail to reject the null hypothesis: No significant difference between the batch means.\")\n"
   ]
  }
 ],
 "metadata": {
  "kernelspec": {
   "display_name": "Python 3 (ipykernel)",
   "language": "python",
   "name": "python3"
  },
  "language_info": {
   "codemirror_mode": {
    "name": "ipython",
    "version": 3
   },
   "file_extension": ".py",
   "mimetype": "text/x-python",
   "name": "python",
   "nbconvert_exporter": "python",
   "pygments_lexer": "ipython3",
   "version": "3.12.4"
  }
 },
 "nbformat": 4,
 "nbformat_minor": 5
}

{
 "cells": [
  {
   "cell_type": "code",
   "execution_count": null,
   "id": "84b32c6d-07ac-465d-933d-9e84f6c32bf8",
   "metadata": {},
   "outputs": [],
   "source": [
    "#Task 1\n",
    "\n",
    "#Write an SQL query in Python to extract the country names and the regions associated with them."
   ]
  },
  {
   "cell_type": "code",
   "execution_count": 1,
   "id": "9c039a74-0d0e-42f9-a7d1-1c99ddba2a69",
   "metadata": {},
   "outputs": [
    {
     "name": "stdout",
     "output_type": "stream",
     "text": [
      "Requirement already satisfied: mysql-connector-python in c:\\users\\marur\\anaconda3\\lib\\site-packages (9.0.0)\n",
      "Note: you may need to restart the kernel to use updated packages.\n"
     ]
    }
   ],
   "source": [
    "pip install mysql-connector-python"
   ]
  },
  {
   "cell_type": "code",
   "execution_count": 2,
   "id": "64b7d13c-357e-4ccb-8899-3d03e30ab540",
   "metadata": {},
   "outputs": [],
   "source": [
    "import mysql.connector as sql"
   ]
  },
  {
   "cell_type": "code",
   "execution_count": 3,
   "id": "a340fd30-01a8-4d1a-a295-2253d2e014d0",
   "metadata": {},
   "outputs": [],
   "source": [
    "import pandas as pd"
   ]
  },
  {
   "cell_type": "code",
   "execution_count": 4,
   "id": "dc48168c-4b14-4195-a418-f59f3711fd2a",
   "metadata": {},
   "outputs": [],
   "source": [
    "db = sql.connect(host='localhost', user='root',password='Saara@39',database='priya')"
   ]
  },
  {
   "cell_type": "code",
   "execution_count": 5,
   "id": "e62cb97e-ead4-46a0-b25f-76d2827a0028",
   "metadata": {},
   "outputs": [],
   "source": [
    "mycursor = db.cursor()"
   ]
  },
  {
   "cell_type": "code",
   "execution_count": 6,
   "id": "521d3c63-6ef0-4276-8bdb-d610ff72be1a",
   "metadata": {},
   "outputs": [
    {
     "data": {
      "text/plain": [
       "[('Argentina', 'Americas'),\n",
       " ('Australia', 'Asia'),\n",
       " ('Belgium', 'Europe'),\n",
       " ('Brazil', 'Americas'),\n",
       " ('Canada', 'Americas'),\n",
       " ('Switzerland', 'Europe'),\n",
       " ('China', 'Asia'),\n",
       " ('Germany', 'Europe'),\n",
       " ('Denmark', 'Europe'),\n",
       " ('Egypt', 'Middle East and Africa'),\n",
       " ('France', 'Europe'),\n",
       " ('HongKong', 'Asia'),\n",
       " ('Israel', 'Middle East and Africa'),\n",
       " ('India', 'Asia'),\n",
       " ('Italy', 'Europe'),\n",
       " ('Japan', 'Asia'),\n",
       " ('Kuwait', 'Middle East and Africa'),\n",
       " ('Mexico', 'Americas'),\n",
       " ('Nigeria', 'Middle East and Africa'),\n",
       " ('Netherlands', 'Europe'),\n",
       " ('Singapore', 'Asia'),\n",
       " ('United Kingdom', 'Europe'),\n",
       " ('United States of America', 'Americas'),\n",
       " ('Zambia', 'Middle East and Africa'),\n",
       " ('Zimbabwe', 'Middle East and Africa')]"
      ]
     },
     "execution_count": 6,
     "metadata": {},
     "output_type": "execute_result"
    }
   ],
   "source": [
    "sql = \"SELECT country_name, region_name  FROM countries c \\\n",
    "JOIN regions r ON c.region_id = r.region_id\"\n",
    "\n",
    "mycursor.execute(sql)\n",
    "country_data = mycursor.fetchall()\n",
    "country_data"
   ]
  },
  {
   "cell_type": "code",
   "execution_count": null,
   "id": "f5ea9625-99cf-40c5-ac6a-6b7d734fc407",
   "metadata": {},
   "outputs": [],
   "source": []
  },
  {
   "cell_type": "code",
   "execution_count": null,
   "id": "ea72df44-f441-474d-8961-227f14902c8d",
   "metadata": {},
   "outputs": [],
   "source": [
    "#Task 2\n",
    "\n",
    "#Display country-wise employee counts in a new table and push it into an RDBMS. This needs joining of tables Once this task is completed, \n",
    "#this query can be executed directly using MySQL without the need of joins.\n",
    "\n",
    "#Note: The relevant tables need to be first pulled into a DataFrame using Python. The necessary data transformations need to be coded in Python, \n",
    "#and then the relevant data needs to be pushed back to the RDBMS"
   ]
  },
  {
   "cell_type": "code",
   "execution_count": 10,
   "id": "3355a29c-672a-45bd-9362-33f6a8f02bfc",
   "metadata": {},
   "outputs": [
    {
     "name": "stdout",
     "output_type": "stream",
     "text": [
      "               country_name  Total_employees\n",
      "0  United States of America               68\n",
      "1            United Kingdom               35\n",
      "2                    Canada                2\n",
      "3                   Germany                1\n"
     ]
    },
    {
     "name": "stderr",
     "output_type": "stream",
     "text": [
      "C:\\Users\\marur\\AppData\\Local\\Temp\\ipykernel_5004\\2942266396.py:22: UserWarning: pandas only supports SQLAlchemy connectable (engine/connection) or database string URI or sqlite3 DBAPI2 connection. Other DBAPI2 objects are not tested. Please consider using SQLAlchemy.\n",
      "  country_data = pd.read_sql(\"SELECT * FROM EMPLOYEE_COUNT\", con=db)\n"
     ]
    }
   ],
   "source": [
    "# TASK 2  -  SQL query to create the EMPLOYEE_COUNT table\n",
    "try:\n",
    "    # Drop the table if it already exists\n",
    "    mycursor.execute(\"DROP TABLE IF EXISTS EMPLOYEE_COUNT\")\n",
    "\n",
    "    # SQL query to create the new table\n",
    "    sql = \"\"\"\n",
    "    CREATE TABLE EMPLOYEE_COUNT AS\n",
    "    SELECT c.country_name, COUNT(e.employee_id) AS Total_employees\n",
    "    FROM countries c\n",
    "    JOIN locations l ON c.country_id = l.country_id\n",
    "    JOIN departments d ON l.location_id = d.location_id\n",
    "    JOIN employees e ON d.department_id = e.department_id\n",
    "    GROUP BY c.country_name;\n",
    "    \"\"\"\n",
    "\n",
    "    # Execute the SQL query\n",
    "    mycursor.execute(sql)\n",
    "    db.commit()  # Commit the changes\n",
    "\n",
    "    # Fetch the data back into a DataFrame\n",
    "    country_data = pd.read_sql(\"SELECT * FROM EMPLOYEE_COUNT\", con=db)\n",
    "    print(country_data)\n",
    "\n",
    "except Exception as e:\n",
    "    # Handle errors gracefully\n",
    "    print(f\"Error: {e}\")\n",
    "\n"
   ]
  },
  {
   "cell_type": "code",
   "execution_count": null,
   "id": "49540550-5dc8-48fb-aeb6-d064161a1908",
   "metadata": {},
   "outputs": [],
   "source": []
  },
  {
   "cell_type": "code",
   "execution_count": null,
   "id": "25bcf990-caa6-45f9-827e-26a2180b6590",
   "metadata": {},
   "outputs": [],
   "source": [
    "#Task 3\n",
    "\n",
    "#Display country-wise and city-wise employee counts\n",
    "\n",
    "#Note: Once the necessary data is available, save it as a csv file and plot the graph using MS Excel or matplotlib library in Python."
   ]
  },
  {
   "cell_type": "code",
   "execution_count": 9,
   "id": "6d9c5cec-78ae-4d6e-b7b9-dae578406e3a",
   "metadata": {},
   "outputs": [
    {
     "data": {
      "image/png": "[encoded data removed]",
      "text/plain": [
       "<Figure size 640x480 with 1 Axes>"
      ]
     },
     "metadata": {},
     "output_type": "display_data"
    }
   ],
   "source": [
    "import matplotlib.pyplot as plt\n",
    "\n",
    "import mysql.connector as sql\n",
    "db = sql.connect(host='localhost', user='root', password='Saara@39', database='priya')\n",
    "mycursor = db.cursor()\n",
    "\n",
    "\n",
    "query = \"\"\"\n",
    "SELECT c.country_name, l.city, COUNT(e.employee_id) AS Total_employees\n",
    "FROM countries c\n",
    "JOIN locations l ON l.country_id = c.country_id \n",
    "JOIN departments d ON d.location_id = l.location_id \n",
    "JOIN employees e ON e.department_id = d.department_id \n",
    "GROUP BY c.country_name, l.city\n",
    "\"\"\"\n",
    "\n",
    "mycursor.execute(query)\n",
    "country_data = mycursor.fetchall()\n",
    "\n",
    "mycursor.close()\n",
    "db.close()\n",
    "country_df = pd.DataFrame(country_data, columns=['Country', 'City', 'EmployeeCount'])\n",
    "country_df.to_csv('Country_counts.csv', index=False)\n",
    "country_agg = country_df.groupby('Country')['EmployeeCount'].sum().reset_index()\n",
    "\n",
    "plt.bar(country_agg['Country'], country_agg['EmployeeCount'], color='skyblue')\n",
    "plt.title('Country-wise Employee Counts')\n",
    "plt.xlabel('Country')\n",
    "plt.ylabel('Number of Employees')\n",
    "plt.xticks(rotation=45)\n",
    "plt.tight_layout()\n",
    "plt.show()\n"
   ]
  }
 ],
 "metadata": {
  "kernelspec": {
   "display_name": "Python 3 (ipykernel)",
   "language": "python",
   "name": "python3"
  },
  "language_info": {
   "codemirror_mode": {
    "name": "ipython",
    "version": 3
   },
   "file_extension": ".py",
   "mimetype": "text/x-python",
   "name": "python",
   "nbconvert_exporter": "python",
   "pygments_lexer": "ipython3",
   "version": "3.12.4"
  }
 },
 "nbformat": 4,
 "nbformat_minor": 5
}

{
 "cells": [
  {
   "cell_type": "code",
   "execution_count": 4,
   "id": "070dbc00-fed8-4e52-82ac-1e9070e31b4b",
   "metadata": {},
   "outputs": [],
   "source": [
    "import pandas as pd\n",
    "import numpy as np\n",
    "import seaborn as sb\n",
    "from matplotlib import pyplot as plt"
   ]
  },
  {
   "cell_type": "code",
   "execution_count": 5,
   "id": "b6bf2a08-ad82-450d-88d6-45c5e51b8371",
   "metadata": {},
   "outputs": [
    {
     "data": {
      "text/html": [
       "<div>\n",
       "<style scoped>\n",
       "    .dataframe tbody tr th:only-of-type {\n",
       "        vertical-align: middle;\n",
       "    }\n",
       "\n",
       "    .dataframe tbody tr th {\n",
       "        vertical-align: top;\n",
       "    }\n",
       "\n",
       "    .dataframe thead th {\n",
       "        text-align: right;\n",
       "    }\n",
       "</style>\n",
       "<table border=\"1\" class=\"dataframe\">\n",
       "  <thead>\n",
       "    <tr style=\"text-align: right;\">\n",
       "      <th></th>\n",
       "      <th>Statistics</th>\n",
       "      <th>Python</th>\n",
       "      <th>Tableau</th>\n",
       "    </tr>\n",
       "  </thead>\n",
       "  <tbody>\n",
       "    <tr>\n",
       "      <th>0</th>\n",
       "      <td>61</td>\n",
       "      <td>86</td>\n",
       "      <td>66</td>\n",
       "    </tr>\n",
       "    <tr>\n",
       "      <th>1</th>\n",
       "      <td>54</td>\n",
       "      <td>86</td>\n",
       "      <td>72</td>\n",
       "    </tr>\n",
       "    <tr>\n",
       "      <th>2</th>\n",
       "      <td>56</td>\n",
       "      <td>80</td>\n",
       "      <td>78</td>\n",
       "    </tr>\n",
       "    <tr>\n",
       "      <th>3</th>\n",
       "      <td>54</td>\n",
       "      <td>85</td>\n",
       "      <td>45</td>\n",
       "    </tr>\n",
       "    <tr>\n",
       "      <th>4</th>\n",
       "      <td>53</td>\n",
       "      <td>84</td>\n",
       "      <td>68</td>\n",
       "    </tr>\n",
       "    <tr>\n",
       "      <th>...</th>\n",
       "      <td>...</td>\n",
       "      <td>...</td>\n",
       "      <td>...</td>\n",
       "    </tr>\n",
       "    <tr>\n",
       "      <th>95</th>\n",
       "      <td>60</td>\n",
       "      <td>76</td>\n",
       "      <td>64</td>\n",
       "    </tr>\n",
       "    <tr>\n",
       "      <th>96</th>\n",
       "      <td>59</td>\n",
       "      <td>89</td>\n",
       "      <td>70</td>\n",
       "    </tr>\n",
       "    <tr>\n",
       "      <th>97</th>\n",
       "      <td>62</td>\n",
       "      <td>80</td>\n",
       "      <td>46</td>\n",
       "    </tr>\n",
       "    <tr>\n",
       "      <th>98</th>\n",
       "      <td>58</td>\n",
       "      <td>89</td>\n",
       "      <td>74</td>\n",
       "    </tr>\n",
       "    <tr>\n",
       "      <th>99</th>\n",
       "      <td>67</td>\n",
       "      <td>77</td>\n",
       "      <td>70</td>\n",
       "    </tr>\n",
       "  </tbody>\n",
       "</table>\n",
       "<p>100 rows × 3 columns</p>\n",
       "</div>"
      ],
      "text/plain": [
       "    Statistics  Python  Tableau\n",
       "0           61      86       66\n",
       "1           54      86       72\n",
       "2           56      80       78\n",
       "3           54      85       45\n",
       "4           53      84       68\n",
       "..         ...     ...      ...\n",
       "95          60      76       64\n",
       "96          59      89       70\n",
       "97          62      80       46\n",
       "98          58      89       74\n",
       "99          67      77       70\n",
       "\n",
       "[100 rows x 3 columns]"
      ]
     },
     "execution_count": 5,
     "metadata": {},
     "output_type": "execute_result"
    }
   ],
   "source": [
    "#TASK1:FIND CENTRAL TENDENCY\n",
    "score_df=pd.read_csv(r\"Downloads/DS1_C4_S7_Students_Scores_Data_Practice.csv\")\n",
    "score_df"
   ]
  },
  {
   "cell_type": "code",
   "execution_count": 8,
   "id": "58d4a8e7-ce64-4913-815c-2bc4a4ed014c",
   "metadata": {},
   "outputs": [],
   "source": [
    "mean=[]\n",
    "median=[]\n",
    "mode=[]"
   ]
  },
  {
   "cell_type": "code",
   "execution_count": 9,
   "id": "cc5d7083-0433-4e08-8347-75767de347bd",
   "metadata": {},
   "outputs": [],
   "source": [
    "for col in score_df.columns:\n",
    "    mean.append(score_df[col].mean())\n",
    "    median.append(score_df[col].median())\n",
    "    mode.append(score_df[col].mode()[0])"
   ]
  },
  {
   "cell_type": "code",
   "execution_count": 12,
   "id": "07da143a-f1fc-471b-b34b-57dc31794cdd",
   "metadata": {},
   "outputs": [
    {
     "data": {
      "text/plain": [
       "[55, 86, 65]"
      ]
     },
     "execution_count": 12,
     "metadata": {},
     "output_type": "execute_result"
    }
   ],
   "source": [
    "mean\n",
    "median\n",
    "mode"
   ]
  },
  {
   "cell_type": "code",
   "execution_count": 15,
   "id": "bd2263f9-4503-43eb-ba5a-23630a5c7c89",
   "metadata": {},
   "outputs": [
    {
     "data": {
      "text/html": [
       "<div>\n",
       "<style scoped>\n",
       "    .dataframe tbody tr th:only-of-type {\n",
       "        vertical-align: middle;\n",
       "    }\n",
       "\n",
       "    .dataframe tbody tr th {\n",
       "        vertical-align: top;\n",
       "    }\n",
       "\n",
       "    .dataframe thead th {\n",
       "        text-align: right;\n",
       "    }\n",
       "</style>\n",
       "<table border=\"1\" class=\"dataframe\">\n",
       "  <thead>\n",
       "    <tr style=\"text-align: right;\">\n",
       "      <th></th>\n",
       "      <th>Measure</th>\n",
       "      <th>Statistics</th>\n",
       "      <th>Python</th>\n",
       "      <th>Tableau</th>\n",
       "    </tr>\n",
       "  </thead>\n",
       "  <tbody>\n",
       "    <tr>\n",
       "      <th>0</th>\n",
       "      <td>Mean</td>\n",
       "      <td>60.89</td>\n",
       "      <td>81.84</td>\n",
       "      <td>68.02</td>\n",
       "    </tr>\n",
       "    <tr>\n",
       "      <th>1</th>\n",
       "      <td>Median</td>\n",
       "      <td>60.00</td>\n",
       "      <td>82.00</td>\n",
       "      <td>69.00</td>\n",
       "    </tr>\n",
       "    <tr>\n",
       "      <th>2</th>\n",
       "      <td>Mode</td>\n",
       "      <td>55.00</td>\n",
       "      <td>86.00</td>\n",
       "      <td>65.00</td>\n",
       "    </tr>\n",
       "  </tbody>\n",
       "</table>\n",
       "</div>"
      ],
      "text/plain": [
       "  Measure  Statistics  Python  Tableau\n",
       "0    Mean       60.89   81.84    68.02\n",
       "1  Median       60.00   82.00    69.00\n",
       "2    Mode       55.00   86.00    65.00"
      ]
     },
     "execution_count": 15,
     "metadata": {},
     "output_type": "execute_result"
    }
   ],
   "source": [
    "df1=pd.DataFrame(data=[mean,median,mode],columns=['Statistics','Python','Tableau'])\n",
    "df1.insert(0,'Measure',value=['Mean','Median','Mode'])\n",
    "df1"
   ]
  },
  {
   "cell_type": "code",
   "execution_count": null,
   "id": "d3023501-d091-497b-b03b-edebd4528a8a",
   "metadata": {},
   "outputs": [],
   "source": [
    "#task2:FIDNING MEAN ,VARIANCE,CV"
   ]
  },
  {
   "cell_type": "code",
   "execution_count": 21,
   "id": "88cc41ac-624f-417d-aaef-727338f40ff0",
   "metadata": {},
   "outputs": [],
   "source": [
    "mean=[]\n",
    "std=[]\n",
    "var=[]\n",
    "CV=[]\n"
   ]
  },
  {
   "cell_type": "code",
   "execution_count": 22,
   "id": "ff1b1658-3fa2-4f86-b141-3193ea677d2a",
   "metadata": {},
   "outputs": [],
   "source": [
    "for col in score_df.columns:\n",
    "    mean.append(score_df[col].mean())\n",
    "    std.append(score_df[col].std())\n",
    "    var.append(score_df[col].var())\n",
    "    CV.append(score_df[col].std()/score_df[col].mean()*100)\n",
    "    "
   ]
  },
  {
   "cell_type": "code",
   "execution_count": 27,
   "id": "1ce83f88-115b-4114-953a-283b5af33a36",
   "metadata": {},
   "outputs": [
    {
     "data": {
      "text/html": [
       "<div>\n",
       "<style scoped>\n",
       "    .dataframe tbody tr th:only-of-type {\n",
       "        vertical-align: middle;\n",
       "    }\n",
       "\n",
       "    .dataframe tbody tr th {\n",
       "        vertical-align: top;\n",
       "    }\n",
       "\n",
       "    .dataframe thead th {\n",
       "        text-align: right;\n",
       "    }\n",
       "</style>\n",
       "<table border=\"1\" class=\"dataframe\">\n",
       "  <thead>\n",
       "    <tr style=\"text-align: right;\">\n",
       "      <th></th>\n",
       "      <th>Measure</th>\n",
       "      <th>Statistics</th>\n",
       "      <th>Python</th>\n",
       "      <th>Tableau</th>\n",
       "    </tr>\n",
       "  </thead>\n",
       "  <tbody>\n",
       "    <tr>\n",
       "      <th>0</th>\n",
       "      <td>Mean</td>\n",
       "      <td>60.89</td>\n",
       "      <td>81.84</td>\n",
       "      <td>68.02</td>\n",
       "    </tr>\n",
       "    <tr>\n",
       "      <th>1</th>\n",
       "      <td>std</td>\n",
       "      <td>7.24</td>\n",
       "      <td>4.35</td>\n",
       "      <td>7.32</td>\n",
       "    </tr>\n",
       "    <tr>\n",
       "      <th>2</th>\n",
       "      <td>var</td>\n",
       "      <td>52.36</td>\n",
       "      <td>18.88</td>\n",
       "      <td>53.60</td>\n",
       "    </tr>\n",
       "    <tr>\n",
       "      <th>3</th>\n",
       "      <td>CV</td>\n",
       "      <td>11.88</td>\n",
       "      <td>5.31</td>\n",
       "      <td>10.76</td>\n",
       "    </tr>\n",
       "  </tbody>\n",
       "</table>\n",
       "</div>"
      ],
      "text/plain": [
       "  Measure  Statistics  Python  Tableau\n",
       "0    Mean       60.89   81.84    68.02\n",
       "1     std        7.24    4.35     7.32\n",
       "2     var       52.36   18.88    53.60\n",
       "3      CV       11.88    5.31    10.76"
      ]
     },
     "execution_count": 27,
     "metadata": {},
     "output_type": "execute_result"
    }
   ],
   "source": [
    "df2=pd.DataFrame(data=[mean,std,var,CV],columns=['Statistics','Python','Tableau'])\n",
    "df2.insert(0,'Measure',value=['Mean','std','var','CV'])\n",
    "df2\n",
    "df2.round(2)"
   ]
  },
  {
   "cell_type": "code",
   "execution_count": null,
   "id": "c1c1aac8-f599-43a0-935c-b82c26f91a94",
   "metadata": {},
   "outputs": [],
   "source": [
    "#task3:Finding skewness\n"
   ]
  },
  {
   "cell_type": "code",
   "execution_count": 28,
   "id": "9db673f7-8e19-4a33-bc9f-1bbbddcd0a5b",
   "metadata": {},
   "outputs": [
    {
     "name": "stdout",
     "output_type": "stream",
     "text": [
      "Statistics 0.20244563780801464\n",
      "Python 0.1209640841792137\n",
      "Tableau -0.9953602082414521\n"
     ]
    }
   ],
   "source": [
    "from scipy.stats import skew\n",
    "print('Statistics',skew(score_df['Statistics']))\n",
    "print('Python',skew(score_df['Python']))\n",
    "print('Tableau',skew(score_df['Tableau']))"
   ]
  },
  {
   "cell_type": "code",
   "execution_count": null,
   "id": "f16b370d-f495-49d2-b619-7eb107009516",
   "metadata": {},
   "outputs": [],
   "source": [
    "#TASK4: VIUALLY REPRESENTING SCORES USING BOX PLOT"
   ]
  },
  {
   "cell_type": "code",
   "execution_count": 29,
   "id": "a07d2aae-f92d-4525-8eff-498315cd68a8",
   "metadata": {},
   "outputs": [
    {
     "data": {
      "image/png": "[encoded data removed]",
      "text/plain": [
       "<Figure size 640x480 with 1 Axes>"
      ]
     },
     "metadata": {},
     "output_type": "display_data"
    }
   ],
   "source": [
    "plt.boxplot([score_df['Statistics'],score_df['Python'],score_df['Tableau']],labels=score_df.columns.tolist(),showmeans=True)\n",
    "plt.show()"
   ]
  },
  {
   "cell_type": "code",
   "execution_count": null,
   "id": "b36fa423-a507-4103-aa9e-a958faa9037a",
   "metadata": {},
   "outputs": [],
   "source": [
    "#TASK5:"
   ]
  },
  {
   "cell_type": "code",
   "execution_count": 6,
   "id": "76f2cf58-bdb8-4640-93e6-385e1681e96f",
   "metadata": {},
   "outputs": [
    {
     "data": {
      "text/plain": [
       "Text(0, 0.5, 'Density')"
      ]
     },
     "execution_count": 6,
     "metadata": {},
     "output_type": "execute_result"
    },
    {
     "data": {
      "image/png": "[encoded data removed]",
      "text/plain": [
       "<Figure size 640x480 with 1 Axes>"
      ]
     },
     "metadata": {},
     "output_type": "display_data"
    }
   ],
   "source": [
    "sb.kdeplot(score_df['Statistics'],fill='red',label='Statistics')\n",
    "sb.kdeplot(score_df['Python'],fill='green',label='Python')\n",
    "sb.kdeplot(score_df['Tableau'],fill='pink',label='Tableau')\n",
    "plt.legend()\n",
    "plt.xlabel('Scores')\n",
    "plt.ylabel('Density')\n"
   ]
  },
  {
   "cell_type": "code",
   "execution_count": 7,
   "id": "d137a696-61f9-476c-9959-11e70770b5e5",
   "metadata": {},
   "outputs": [
    {
     "name": "stdout",
     "output_type": "stream",
     "text": [
      "Statistics -1.2890343729055114\n",
      "Python -1.2748529079288784\n",
      "Tableau 1.4424590544223639\n"
     ]
    }
   ],
   "source": [
    "from scipy.stats import kurtosis\n",
    "print('Statistics',kurtosis(score_df['Statistics']))\n",
    "print('Python',kurtosis(score_df['Python']))\n",
    "print('Tableau',kurtosis(score_df['Tableau']))"
   ]
  }
 ],
 "metadata": {
  "kernelspec": {
   "display_name": "Python 3 (ipykernel)",
   "language": "python",
   "name": "python3"
  },
  "language_info": {
   "codemirror_mode": {
    "name": "ipython",
    "version": 3
   },
   "file_extension": ".py",
   "mimetype": "text/x-python",
   "name": "python",
   "nbconvert_exporter": "python",
   "pygments_lexer": "ipython3",
   "version": "3.12.4"
  }
 },
 "nbformat": 4,
 "nbformat_minor": 5
}

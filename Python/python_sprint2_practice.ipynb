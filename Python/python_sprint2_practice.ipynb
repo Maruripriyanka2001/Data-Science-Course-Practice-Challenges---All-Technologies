{
 "cells": [
  {
   "cell_type": "code",
   "execution_count": 11,
   "id": "fefbcaf8-de85-4035-bd16-e9f34d65babb",
   "metadata": {},
   "outputs": [
    {
     "name": "stdin",
     "output_type": "stream",
     "text": [
      "enter character b\n"
     ]
    },
    {
     "name": "stdout",
     "output_type": "stream",
     "text": [
      "MYSQL\n"
     ]
    }
   ],
   "source": [
    "#TASK1 ACCEPT A CHARACTER FROM USER IF USER ENTER A THEN DISPLAY PYTHON AND B THEN MYSQL AND C THRN EXCEL AND D THEN DISPLAY IF NO CHARACTER THEN HOLIDAY\n",
    "char=input(\"enter character\")\n",
    "if char == 'a':\n",
    "    print(\"PYTHON\")\n",
    "elif char == 'b':\n",
    "    print(\"MYSQL\")\n",
    "elif char == 'c':\n",
    "    print(\"EXCEL\")\n",
    "else:\n",
    "    print(\"HOLIDAY\")\n",
    "\n",
    "    \n"
   ]
  },
  {
   "cell_type": "code",
   "execution_count": 24,
   "id": "a5071bec-0a40-46c4-a4f7-070afde9b5cf",
   "metadata": {},
   "outputs": [
    {
     "name": "stdout",
     "output_type": "stream",
     "text": [
      "HIGHEST NUMBER is 70\n"
     ]
    }
   ],
   "source": [
    "#TASK2 ACCEPT TWO NUMBER FROM USER AND DISPLAY HIGHEST NUMBER\n",
    "a=70\n",
    "b=60\n",
    "if a>b:\n",
    "    print(\"HIGHEST NUMBER is\",a)\n",
    "elif b>a:\n",
    "    print(\"HIGHESR NUMBER IS\",b)\n",
    "else:\n",
    "    print(\"LOWEST NUMBER\")\n"
   ]
  },
  {
   "cell_type": "code",
   "execution_count": 29,
   "id": "32cb8a49-bba9-46a0-9c26-8c028586186f",
   "metadata": {},
   "outputs": [
    {
     "name": "stdin",
     "output_type": "stream",
     "text": [
      "Enter the monthly basic salary:  11000\n"
     ]
    },
    {
     "name": "stdout",
     "output_type": "stream",
     "text": [
      "The annual gross salary is: $171600.0\n"
     ]
    }
   ],
   "source": [
    "# Accepting the basic salary from the user and fining the gross salary\n",
    "basic_salary = float(input(\"Enter the monthly basic salary: \"))\n",
    "\n",
    "if basic_salary < 4000:\n",
    "    hra = 0.10 * basic_salary\n",
    "    ta = 0.05 * basic_salary\n",
    "elif 4001 <= basic_salary <= 10000:\n",
    "    hra = 0.10 * basic_salary\n",
    "    ta = 0.10 * basic_salary\n",
    "elif basic_salary > 10000:\n",
    "    hra = 0.15 * basic_salary\n",
    "    ta = 0.15 * basic_salary\n",
    "\n",
    "gross_salary = (basic_salary + hra + ta) * 12\n",
    "\n",
    "print(\"The annual gross salary is: ${:.1f}\".format(gross_salary))\n"
   ]
  },
  {
   "cell_type": "code",
   "execution_count": 6,
   "id": "e53eb04d-67c9-4655-a455-a11983a9a981",
   "metadata": {},
   "outputs": [
    {
     "name": "stdin",
     "output_type": "stream",
     "text": [
      "enter a word Python\n"
     ]
    },
    {
     "name": "stdout",
     "output_type": "stream",
     "text": [
      "YES\n"
     ]
    }
   ],
   "source": [
    "#TASK4 ACCEPT WORD AND CHECK WORD IN VAR IF THERE PRINT YES OR ELSE NO\n",
    "var = \"Python is an interpreted, high-level, general-purpose programming language. Its design philosophy emphasizes code readability, with its use of significant indentation. Its language constructs as well as its object-oriented approach aim to help programmers write clear, logical code for small and large-scale projects.\"\n",
    "word=input(\"enter a word\")\n",
    "if word in var:\n",
    "    print(\"YES\")\n",
    "else:\n",
    "    print(\"NO\")\n"
   ]
  },
  {
   "cell_type": "code",
   "execution_count": 10,
   "id": "7a16f9b9-3e75-45e1-94e3-dcc18bc84b1c",
   "metadata": {},
   "outputs": [
    {
     "name": "stdin",
     "output_type": "stream",
     "text": [
      "enter a alphabet J\n"
     ]
    },
    {
     "name": "stdout",
     "output_type": "stream",
     "text": [
      "UPPERCASE\n"
     ]
    }
   ],
   "source": [
    "#TASK5 ACCEPT ALPHABET IF A PRINT UPPERCASE AND IF a is LOWERCASE\n",
    "alphabet=input(\"enter a alphabet\")\n",
    "if (alphabet.isupper()):\n",
    "    print(\"UPPERCASE\")\n",
    "else:\n",
    "    print(\"lowercase\")\n",
    "    "
   ]
  },
  {
   "cell_type": "code",
   "execution_count": 21,
   "id": "3413b3a0-a5fd-4920-aaa6-af0da04efd6d",
   "metadata": {},
   "outputs": [
    {
     "name": "stdin",
     "output_type": "stream",
     "text": [
      "enter a alphabet k\n"
     ]
    },
    {
     "name": "stdout",
     "output_type": "stream",
     "text": [
      "consonant\n"
     ]
    },
    {
     "name": "stdin",
     "output_type": "stream",
     "text": [
      "enter a alphabet l\n"
     ]
    },
    {
     "name": "stdout",
     "output_type": "stream",
     "text": [
      "consonant\n"
     ]
    }
   ],
   "source": [
    "#TASK6 ACCEPT ALPHABET FROM USER IF ENTERED ALPHABET IS VOWEL OR CONSONANT\n",
    "alpha=input(\"enter a alphabet\")\n",
    "if(alpha.isalpha()):\n",
    "    if(alpha in 'aeiou'):\n",
    "        print(\"vowel\")\n",
    "    else:\n",
    "        print(\"consonant\")\n",
    "else:\n",
    "    print(\"not a character\")\n",
    "#or\n",
    "alpha=input(\"enter a alphabet\")\n",
    "if(alpha in 'aeiou'):\n",
    "    print(\"vowel\")\n",
    "else:\n",
    "    print(\"consonant\")\n"
   ]
  }
 ],
 "metadata": {
  "kernelspec": {
   "display_name": "Python 3 (ipykernel)",
   "language": "python",
   "name": "python3"
  },
  "language_info": {
   "codemirror_mode": {
    "name": "ipython",
    "version": 3
   },
   "file_extension": ".py",
   "mimetype": "text/x-python",
   "name": "python",
   "nbconvert_exporter": "python",
   "pygments_lexer": "ipython3",
   "version": "3.12.4"
  }
 },
 "nbformat": 4,
 "nbformat_minor": 5
}

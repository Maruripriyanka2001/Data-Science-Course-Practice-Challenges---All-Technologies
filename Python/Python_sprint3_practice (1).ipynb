{
 "cells": [
  {
   "cell_type": "code",
   "execution_count": 1,
   "id": "6822c4ed-770c-457f-bcd0-6bfacd20701e",
   "metadata": {},
   "outputs": [
    {
     "name": "stdout",
     "output_type": "stream",
     "text": [
      "False\n"
     ]
    }
   ],
   "source": [
    "#TASK1 IN LIST BELOWE CHECK THE PRESENCE OF DATA ITEM USA\n",
    "mynames=[\"Joe\",\"Zoe\",\"world\",\"Bard\",\"Angelina\",\"world\",\"Zuki\",\"Tom\",\"Paris\",\"world\",\"magic\"]\n",
    "print(\"USA\" in mynames)\n"
   ]
  },
  {
   "cell_type": "code",
   "execution_count": 6,
   "id": "ef8bfec2-12a2-4ace-b026-1d131c918d29",
   "metadata": {},
   "outputs": [
    {
     "name": "stdout",
     "output_type": "stream",
     "text": [
      "3\n"
     ]
    }
   ],
   "source": [
    "#TASK2 HOW DO YOU IDENTIFY NUMBER OF TIMES THE DATA ITEM WORLD PRESENT IN FOLLOWING DATA\n",
    "mynames=[\"Joe\",\"Zoe\",\"world\",\"Bard\",\"Angelina\",\"world\",\"Zuki\",\"Tom\",\"Paris\",\"world\",\"magic\"]\n",
    "n=mynames.count(\"world\")\n",
    "print(n)"
   ]
  },
  {
   "cell_type": "code",
   "execution_count": 8,
   "id": "f9028579-cf54-4896-a751-c35016d49ffc",
   "metadata": {},
   "outputs": [
    {
     "name": "stdout",
     "output_type": "stream",
     "text": [
      "Total number of even numbers:  14\n",
      "Total number of odd numbers: 15\n"
     ]
    }
   ],
   "source": [
    "#TASK3 WRITE A PROGRAM TO COUNT THE TOTAL NUMBER OF ODD AND EVEN NUMBERS IN LIST \n",
    "# Create a list of numbers from 1 to 29\n",
    "numlist = list(range(1, 30))\n",
    "odd_count = 0\n",
    "even_count = 0\n",
    "for num in numlist:\n",
    "    if num % 2 == 0:\n",
    "        even_count += 1  \n",
    "    else:\n",
    "        odd_count += 1   \n",
    "print(\"Total number of even numbers: \",even_count)\n",
    "print(\"Total number of odd numbers:\",odd_count)\n",
    "        "
   ]
  },
  {
   "cell_type": "code",
   "execution_count": 10,
   "id": "0c6c8972-e98d-439b-86e0-effb45430504",
   "metadata": {},
   "outputs": [
    {
     "name": "stdout",
     "output_type": "stream",
     "text": [
      "new list is : [2, 4, 6, 8, 10]\n"
     ]
    }
   ],
   "source": [
    "#To complete Task 4, where you need to select the first 5 even numbers from numlist, store them in a new list, and then display the contents of the new list\n",
    "numlist = list(range(1, 30))\n",
    "n=0\n",
    "el = []\n",
    "for i in numlist:\n",
    "    if i % 2 == 0:  \n",
    "        el.append(i)\n",
    "        n=n+1\n",
    "    if n==5:\n",
    "        break\n",
    "print(\"new list is :\",el)\n"
   ]
  },
  {
   "cell_type": "code",
   "execution_count": 5,
   "id": "3bce768a-60b1-42e2-a725-43c5d684607a",
   "metadata": {},
   "outputs": [
    {
     "name": "stdout",
     "output_type": "stream",
     "text": [
      "[27, 29]\n"
     ]
    }
   ],
   "source": [
    "#print the last two odd numbers from the list numlist\n",
    "\n",
    "numlist = list(range(1, 30))\n",
    "odd_numbers = [num for num in numlist if num % 2 != 0]\n",
    "print(odd_numbers[-2:])\n"
   ]
  },
  {
   "cell_type": "code",
   "execution_count": 13,
   "id": "2ccf82a0-7a23-4475-95cb-34620183d048",
   "metadata": {},
   "outputs": [
    {
     "name": "stdout",
     "output_type": "stream",
     "text": [
      "[('priya', 'rama', 'devi', 'koti', 'vijaya', 'siri')]\n",
      "[(34, 33, 35)]\n",
      "[('priya', 'rama', 'devi', 'koti', 'vijaya', 'siri'), [(34, 33, 35)]]\n"
     ]
    }
   ],
   "source": [
    "#create two empty list as x and y and store 5 string from user into x and 3 number from user into y and append  contents of list  y to x\n",
    "x=[]\n",
    "y=[]\n",
    "a='priya','rama','devi','koti','vijaya','siri'\n",
    "b=34,33,35\n",
    "x.append(a)\n",
    "y.append(b)\n",
    "print(x)\n",
    "print(y)\n",
    "x.append(y)\n",
    "print(x)"
   ]
  },
  {
   "cell_type": "code",
   "execution_count": 11,
   "id": "54e670c9-6a5b-4049-bc38-03570eb8f700",
   "metadata": {},
   "outputs": [
    {
     "name": "stdout",
     "output_type": "stream",
     "text": [
      "squares of number is 1 :1.00\n",
      "squares of number is 2 :1.41\n",
      "squares of number is 3 :1.73\n",
      "squares of number is 4 :2.00\n",
      "squares of number is 5 :2.24\n",
      "squares of number is 6 :2.45\n",
      "squares of number is 7 :2.65\n",
      "squares of number is 8 :2.83\n",
      "squares of number is 9 :3.00\n",
      "squares of number is 30 :5.48\n",
      "squares of number is 31 :5.57\n",
      "squares of number is 32 :5.66\n",
      "squares of number is 33 :5.74\n",
      "squares of number is 34 :5.83\n",
      "squares of number is 35 :5.92\n",
      "squares of number is 36 :6.00\n",
      "squares of number is 37 :6.08\n",
      "squares of number is 38 :6.16\n",
      "squares of number is 39 :6.24\n"
     ]
    }
   ],
   "source": [
    "#finding square root from 1 to 10 and 30 to 40\n",
    "import math\n",
    "list_a=list(range(1,10))\n",
    "for x in list_a:\n",
    "    sqrt_x=math.sqrt(x)\n",
    "    print(\"squares of number is {} :{:.2f}\".format(x,sqrt_x))\n",
    "    x=x+1\n",
    "\n",
    "import math\n",
    "list_a=list(range(30,40))\n",
    "for x in list_a:\n",
    "    sqrt_x=math.sqrt(x)\n",
    "    print(\"squares of number is {} :{:.2f}\".format(x,sqrt_x))\n",
    "    x=x+1\n",
    "    "
   ]
  },
  {
   "cell_type": "code",
   "execution_count": 40,
   "id": "aa186b55-4707-49d0-99f6-e6194580252e",
   "metadata": {},
   "outputs": [
    {
     "name": "stdout",
     "output_type": "stream",
     "text": [
      "5 x 1 = 5\n",
      "5 x 2 = 10\n",
      "5 x 3 = 15\n",
      "5 x 4 = 20\n",
      "5 x 5 = 25\n",
      "5 x 6 = 30\n",
      "5 x 7 = 35\n",
      "5 x 8 = 40\n",
      "5 x 9 = 45\n",
      "5 x 10 = 50\n"
     ]
    }
   ],
   "source": [
    "#5 th table\n",
    "n=5\n",
    "for i in range(1,11,1):\n",
    "    print(n,'x',i, '=', n*i)"
   ]
  }
 ],
 "metadata": {
  "kernelspec": {
   "display_name": "Python 3 (ipykernel)",
   "language": "python",
   "name": "python3"
  },
  "language_info": {
   "codemirror_mode": {
    "name": "ipython",
    "version": 3
   },
   "file_extension": ".py",
   "mimetype": "text/x-python",
   "name": "python",
   "nbconvert_exporter": "python",
   "pygments_lexer": "ipython3",
   "version": "3.12.4"
  }
 },
 "nbformat": 4,
 "nbformat_minor": 5
}

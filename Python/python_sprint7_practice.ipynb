{
 "cells": [
  {
   "cell_type": "code",
   "execution_count": 21,
   "id": "6146d43f-aa54-4dba-9d46-87de201af9f6",
   "metadata": {},
   "outputs": [],
   "source": [
    "#TASK1\n",
    "from abc import ABC,abstractmethod\n",
    "class product(ABC):\n",
    "    @abstractmethod\n",
    "    def calculate_total_price(self):\n",
    "        pass\n",
    "        "
   ]
  },
  {
   "cell_type": "code",
   "execution_count": 22,
   "id": "a8be5a16-fddd-4c09-823e-bbefb2f2b04c",
   "metadata": {},
   "outputs": [],
   "source": [
    "#TASK2\n",
    "class DigitalProduct(product):\n",
    "    def __init__(self, product_name, price, weight, shipping_charge, delivery_charge):\n",
    "        self.product_name = product_name\n",
    "        self.price = price\n",
    "        self.weight = weight\n",
    "        self.shipping_charge = shipping_charge\n",
    "        self.delivery_charge = delivery_charge\n",
    "\n",
    "    def calculate_total_price(self):\n",
    "        return self.price + self.shipping_charge + self.delivery_charge\n",
    "\n",
    "    "
   ]
  },
  {
   "cell_type": "code",
   "execution_count": 5,
   "id": "57c7dd0f-991a-4cf2-bc79-ee0bf3aa8b77",
   "metadata": {},
   "outputs": [
    {
     "data": {
      "text/plain": [
       "80"
      ]
     },
     "execution_count": 5,
     "metadata": {},
     "output_type": "execute_result"
    }
   ],
   "source": [
    "obj=DigitalProduct('soap',10,20,30,40)\n",
    "obj.calculate_total_price()"
   ]
  },
  {
   "cell_type": "code",
   "execution_count": 24,
   "id": "cd669193-73bd-4075-a072-5405b36ebb08",
   "metadata": {},
   "outputs": [],
   "source": [
    "#TASK3\n",
    "class PhysicalProduct(product):\n",
    "    def __init__(self,product_name, price, weight, shipping_charge, delivery_charge):\n",
    "        self.product_name = product_name\n",
    "        self.price = price\n",
    "        self.weight = weight\n",
    "        self.shipping_charge = shipping_charge\n",
    "        self.delivery_charge = delivery_charge\n",
    "    def calculate_total_price(self):\n",
    "        return self.price + self.shipping_charge + self.delivery_charge\n",
    "\n"
   ]
  },
  {
   "cell_type": "code",
   "execution_count": 7,
   "id": "f92e61ac-5e27-4162-9b9f-fcfbbf1fa6e1",
   "metadata": {},
   "outputs": [
    {
     "data": {
      "text/plain": [
       "80"
      ]
     },
     "execution_count": 7,
     "metadata": {},
     "output_type": "execute_result"
    }
   ],
   "source": [
    "obj1=PhysicalProduct(\"shamp\",10,20,30,40)\n",
    "obj1.calculate_total_price()"
   ]
  },
  {
   "cell_type": "code",
   "execution_count": 19,
   "id": "d20d7ce5-cd49-475b-96d2-c19c3b808ae2",
   "metadata": {},
   "outputs": [
    {
     "name": "stdout",
     "output_type": "stream",
     "text": [
      "Customer: John Doe\n",
      "Items: ['Laptop', 'Mouse']\n",
      "Total Price: $1225.00\n"
     ]
    }
   ],
   "source": [
    "#TASK4\n",
    "class Order:\n",
    "    def __init__(self):\n",
    "        self.customer_name = None\n",
    "        self.items = []  \n",
    "        self.total_price = 0.0  \n",
    "    def set_customer_name(self, customer_name):\n",
    "        self.customer_name = customer_name\n",
    "\n",
    "    def set_items(self, items):\n",
    "        self.items = items \n",
    "\n",
    "    def set_total_price(self, price):\n",
    "        self.total_price += price\n",
    "    def add_item(self, item_name, price):\n",
    "        self.items.append(item_name)\n",
    "        self.set_total_price(price)\n",
    "    def get_customer_name(self):\n",
    "        return self.customer_name\n",
    "\n",
    "    def get_items(self):\n",
    "        return self.items  \n",
    "\n",
    "    def get_total_price(self):\n",
    "        return self.total_price\n",
    "\n",
    "    def calculate_total_price(self):\n",
    "        pass  \n",
    "\n",
    "\n",
    "order1 = Order()  \n",
    "order1.set_customer_name(\"John Doe\")\n",
    "order1.add_item(\"Laptop\", 1200)\n",
    "order1.add_item(\"Mouse\", 25)\n",
    "\n",
    "\n",
    "print(f\"Customer: {order1.get_customer_name()}\")  \n",
    "print(f\"Items: {order1.get_items()}\")\n",
    "print(f\"Total Price: ${order1.get_total_price():.2f}\")\n"
   ]
  },
  {
   "cell_type": "code",
   "execution_count": 30,
   "id": "1d6dfa66-12f2-433f-9478-7f07f4f74f45",
   "metadata": {},
   "outputs": [
    {
     "name": "stdout",
     "output_type": "stream",
     "text": [
      "Customer: John Doe\n",
      "Items: ['e-book', 'e-book2']\n",
      "Total Price: $60.00\n"
     ]
    }
   ],
   "source": [
    "#TASK5\n",
    "class Order:\n",
    "    def __init__(self):\n",
    "        self.customer_name = None\n",
    "        self.items = []  \n",
    "        self.total_price = 0.0  \n",
    "\n",
    "    def set_customer_name(self, customer_name):\n",
    "        self.customer_name = customer_name\n",
    "\n",
    "    def set_items(self, items):\n",
    "        self.items = items  \n",
    "    def set_total_price(self, price):\n",
    "        self.total_price += price\n",
    "\n",
    "    def add_item(self, product):\n",
    "        self.items.append(product.product_name)\n",
    "        self.set_total_price(product.price)\n",
    "\n",
    "    def get_customer_name(self):\n",
    "        return self.customer_name\n",
    "\n",
    "    def get_items(self):\n",
    "        return self.items  \n",
    "    def get_total_price(self):\n",
    "        return self.total_price\n",
    "\n",
    "    def calculate_total_price(self):\n",
    "        pass\n",
    "\n",
    "\n",
    "class DigitalProduct:\n",
    "    def __init__(self, product_name, price):\n",
    "        self.product_name = product_name\n",
    "        self.price = price\n",
    "\n",
    "    def calculate_total_price(self):\n",
    "        return self.price\n",
    "\n",
    "\n",
    "class PhysicalProduct:\n",
    "    def __init__(self, product_name, price, shipping_charge, delivery_charge):\n",
    "        self.product_name = product_name\n",
    "        self.price = price\n",
    "        self.shipping_charge = shipping_charge\n",
    "        self.delivery_charge = delivery_charge\n",
    "\n",
    "    def calculate_total_price(self):\n",
    "        return self.price + self.shipping_charge + self.delivery_charge\n",
    "\n",
    "\n",
    "def main():\n",
    "    obj3 = DigitalProduct(\"e-book\", 10)  \n",
    "    obj4 = PhysicalProduct(\"e-book2\", 50, 5, 10)  \n",
    "    obj5 = Order()\n",
    "    obj5.set_customer_name(\"John Doe\")\n",
    "    \n",
    "    obj5.add_item(obj3) \n",
    "    obj5.add_item(obj4)  \n",
    "    print(f\"Customer: {obj5.get_customer_name()}\")\n",
    "    print(f\"Items: {obj5.get_items()}\")\n",
    "    print(f\"Total Price: ${obj5.get_total_price():.2f}\")\n",
    "\n",
    "\n",
    "if __name__ == \"__main__\":\n",
    "    main()\n"
   ]
  }
 ],
 "metadata": {
  "kernelspec": {
   "display_name": "Python 3 (ipykernel)",
   "language": "python",
   "name": "python3"
  },
  "language_info": {
   "codemirror_mode": {
    "name": "ipython",
    "version": 3
   },
   "file_extension": ".py",
   "mimetype": "text/x-python",
   "name": "python",
   "nbconvert_exporter": "python",
   "pygments_lexer": "ipython3",
   "version": "3.12.4"
  }
 },
 "nbformat": 4,
 "nbformat_minor": 5
}

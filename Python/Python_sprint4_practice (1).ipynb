{
 "cells": [
  {
   "cell_type": "code",
   "execution_count": 1,
   "id": "0f736050-758f-4930-bd87-a6b592362fa9",
   "metadata": {},
   "outputs": [
    {
     "name": "stdout",
     "output_type": "stream",
     "text": [
      "Factorial of 5 is 120\n"
     ]
    }
   ],
   "source": [
    "#TASK1\n",
    "#factorial of number\n",
    "n = 5\n",
    "factorial = 1\n",
    "i = 1\n",
    "while i <= n:\n",
    "    factorial *= i\n",
    "    i += 1 \n",
    "print(\"Factorial of\", n, \"is\", factorial)\n"
   ]
  },
  {
   "cell_type": "code",
   "execution_count": 20,
   "id": "2b265661-d3b7-4dc5-b0d8-35cbbb8c115d",
   "metadata": {},
   "outputs": [
    {
     "name": "stdin",
     "output_type": "stream",
     "text": [
      "enter number 4\n"
     ]
    },
    {
     "name": "stdout",
     "output_type": "stream",
     "text": [
      "prime\n"
     ]
    }
   ],
   "source": [
    "#TASK2\n",
    "#prime number checking\n",
    "n=int(input(\"enter number\"))\n",
    "flag=True\n",
    "if(n==0 and n==1):\n",
    "    print(\"not prime\")\n",
    "elif(n>1):\n",
    "    for i in range(2,n//2,1):\n",
    "        if(n%i==0):\n",
    "            flag=False\n",
    "            break;\n",
    "    if flag==True:\n",
    "        print(\"prime\")\n",
    "    else:\n",
    "        print(\"not prime\")\n",
    "        \n"
   ]
  },
  {
   "cell_type": "code",
   "execution_count": 30,
   "id": "833f4465-bdff-486e-9f8e-2420dc0762c5",
   "metadata": {},
   "outputs": [
    {
     "name": "stdin",
     "output_type": "stream",
     "text": [
      "enter number 234\n"
     ]
    },
    {
     "name": "stdout",
     "output_type": "stream",
     "text": [
      "9\n"
     ]
    }
   ],
   "source": [
    "#TASK3\n",
    "#sum of all digits\n",
    "n=int(input(\"enter number\"))\n",
    "sum=0\n",
    "while n!=0:\n",
    "    digit=n%10\n",
    "    sum=sum+digit\n",
    "    n=n//10\n",
    "print(sum)"
   ]
  },
  {
   "cell_type": "code",
   "execution_count": 2,
   "id": "783dbe86-282b-4fe4-ad02-fdb82f954a2e",
   "metadata": {},
   "outputs": [
    {
     "name": "stdout",
     "output_type": "stream",
     "text": [
      "Fibonacci series: 0 1 1 2 3 5 8 "
     ]
    }
   ],
   "source": [
    "#TASK4\n",
    "#fibonacci series\n",
    "num = 7\n",
    "n1, n2 = 0, 1\n",
    "print(\"Fibonacci series:\",n1,n2,end=\" \")\n",
    "n3 = 2  \n",
    "while n3 < num:\n",
    "    n = n1 + n2  \n",
    "    print(n, end=' ')\n",
    "    n1 = n2\n",
    "    n2 = n\n",
    "    n3 += 1\n",
    "    "
   ]
  },
  {
   "cell_type": "code",
   "execution_count": 65,
   "id": "f07d6648-de85-4fbd-aae0-a8bd3290cab5",
   "metadata": {},
   "outputs": [
    {
     "name": "stdout",
     "output_type": "stream",
     "text": [
      "(1, 2, 3, 4, 5, 6)\n"
     ]
    },
    {
     "data": {
      "text/plain": [
       "1910075044768"
      ]
     },
     "execution_count": 65,
     "metadata": {},
     "output_type": "execute_result"
    }
   ],
   "source": [
    "#TASK5\n",
    "#finding id of tuples and adding two tuples and identifing the id\n",
    "t1=(1,2,3)\n",
    "t2=(4,5,6)\n",
    "id(t1)\n",
    "id(t2)\n",
    "t1=t1+t2\n",
    "print(t1)\n",
    "id(t1)"
   ]
  },
  {
   "cell_type": "code",
   "execution_count": 75,
   "id": "b37882be-9bf6-4228-8a80-13630860b8a2",
   "metadata": {},
   "outputs": [
    {
     "name": "stdout",
     "output_type": "stream",
     "text": [
      "{70, 10, 20, 30, 33, 40, 50, 55, 60}\n"
     ]
    }
   ],
   "source": [
    "#TASK5\n",
    "#creating one list and one dictionary and insert list values into dictonary using for loop and add function\n",
    "m = {10, 20, 30, 40, 50}\n",
    "n = [33, 40, 55, 60, 70]\n",
    "for i in n:\n",
    "    m.add(i)\n",
    "print(m)\n"
   ]
  },
  {
   "cell_type": "code",
   "execution_count": 4,
   "id": "5694686b-ba16-4e52-ab11-00e60ed7b4dc",
   "metadata": {},
   "outputs": [
    {
     "name": "stdout",
     "output_type": "stream",
     "text": [
      "Data 2\n",
      "SQL 4\n"
     ]
    }
   ],
   "source": [
    "#TASK6\n",
    "#print the only even combination\n",
    "data_set={'Python':1,'Data':2,'Excel':3,'SQL':4}\n",
    "for k,v in data_set.items():\n",
    "    if(v%2==0):\n",
    "        print(k,v)"
   ]
  },
  {
   "cell_type": "code",
   "execution_count": 3,
   "id": "fffdc307-3acc-43bc-8622-72ac330db1ff",
   "metadata": {},
   "outputs": [
    {
     "name": "stdout",
     "output_type": "stream",
     "text": [
      "{1: 1, 2: 4, 3: 9, 4: 16, 5: 25, 6: 36, 7: 49, 8: 64, 9: 81, 10: 100, 11: 121, 12: 144, 13: 169, 14: 196}\n",
      "{100: 10000}\n"
     ]
    }
   ],
   "source": [
    "#TASK7\n",
    "dict={i:i**2 for i in range(1,15)}\n",
    "print(dict)\n",
    "d={}\n",
    "d.update({100:10000})\n",
    "print(d)"
   ]
  }
 ],
 "metadata": {
  "kernelspec": {
   "display_name": "Python 3 (ipykernel)",
   "language": "python",
   "name": "python3"
  },
  "language_info": {
   "codemirror_mode": {
    "name": "ipython",
    "version": 3
   },
   "file_extension": ".py",
   "mimetype": "text/x-python",
   "name": "python",
   "nbconvert_exporter": "python",
   "pygments_lexer": "ipython3",
   "version": "3.12.4"
  }
 },
 "nbformat": 4,
 "nbformat_minor": 5
}

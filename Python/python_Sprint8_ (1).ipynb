{
 "cells": [
  {
   "cell_type": "code",
   "execution_count": null,
   "id": "a23f055f-8fbb-45d6-a1f1-fa898e0228d1",
   "metadata": {},
   "outputs": [],
   "source": [
    "#Task 1\n",
    "\n",
    "#Create a class named Product to encapsulate product information, including product ID, name, price, and quantity. \n",
    "#Add inventory management operations such as add_product, display_product, and format_product. \n",
    "#The add_product() method should validate the input. If the input is invalid, it should raise a ValueError with an appropriate error message.\""
   ]
  },
  {
   "cell_type": "code",
   "execution_count": 2,
   "id": "21f33cdf-ba1b-4846-8800-942a9ba5501e",
   "metadata": {},
   "outputs": [],
   "source": [
    "class Product:\n",
    "    def __init__(self, product_id, name, price, quantity):\n",
    "        self.product_id = product_id\n",
    "        self.name = name\n",
    "        self.price = price\n",
    "        self.quantity = quantity\n",
    "\n",
    "    def add_product(self, product_id, name, price, quantity):\n",
    "        # Validate product_id\n",
    "        if not isinstance(product_id, int) or product_id <= 0:\n",
    "            raise ValueError(\"Product ID must be a positive integer.\")\n",
    "        \n",
    "        # Validate name\n",
    "        if not isinstance(name, str) or not name.strip():\n",
    "            raise ValueError(\"Product name must be a non-empty string.\")\n",
    "        \n",
    "        # Validate price\n",
    "        if not isinstance(price, (int, float)) or price <= 0:\n",
    "            raise ValueError(\"Price must be a positive number.\")\n",
    "        \n",
    "        # Validate quantity\n",
    "        if not isinstance(quantity, int) or quantity < 0:\n",
    "            raise ValueError(\"Quantity must be a non-negative integer.\")\n",
    "        \n",
    "        # If all validations pass, assign values to the instance variables\n",
    "        self.product_id = product_id\n",
    "        self.name = name\n",
    "        self.price = price\n",
    "        self.quantity = quantity\n",
    "\n",
    "    def display_product(self):\n",
    "        print(f\"Product ID: {self.product_id}\")\n",
    "        print(f\"Name: {self.name}\")\n",
    "        print(f\"Price: {self.price}\")\n",
    "        print(f\"Quantity: {self.quantity}\")\n",
    "\n",
    "    def format_product(self):\n",
    "        return f\"Product({self.product_id}, {self.name}, {self.price}, {self.quantity})\""
   ]
  },
  {
   "cell_type": "code",
   "execution_count": null,
   "id": "8c2cebc1-d500-455b-909a-c9b23b449066",
   "metadata": {},
   "outputs": [],
   "source": []
  },
  {
   "cell_type": "code",
   "execution_count": null,
   "id": "719f06fb-f0f1-4640-9df2-e21aba87fa2d",
   "metadata": {},
   "outputs": [],
   "source": [
    "#Task 2\n",
    "\n",
    "#a. Accept the following information of two products:\n",
    "\n",
    "#Product ID: 1001, Name: The Blue Umbrella, Price: $2.0, Quantity: 12\n",
    "\n",
    "#Product ID: 1002, Name: The Room on the Roof, Price: $3.0, Quantity: 10"
   ]
  },
  {
   "cell_type": "code",
   "execution_count": 5,
   "id": "71264599-ed68-4593-b733-21c3c226a493",
   "metadata": {},
   "outputs": [],
   "source": [
    "product1 = Product(1001, \"The Blue Umbrella\", 2.0, 12)\n",
    "product2 = Product(1002, \"The Room on the Roof\", 3.0, 10)\n"
   ]
  },
  {
   "cell_type": "code",
   "execution_count": 6,
   "id": "6a859e7e-c12c-43ac-95ac-47f304a5f47a",
   "metadata": {},
   "outputs": [
    {
     "name": "stdout",
     "output_type": "stream",
     "text": [
      "Product ID: 1001\n",
      "Name: The Blue Umbrella\n",
      "Price: 2.0\n",
      "Quantity: 12\n",
      "None\n",
      "Product ID: 1002\n",
      "Name: The Room on the Roof\n",
      "Price: 3.0\n",
      "Quantity: 10\n",
      "None\n"
     ]
    }
   ],
   "source": [
    "print(product1.display_product())\n",
    "print(product2.display_product())"
   ]
  },
  {
   "cell_type": "code",
   "execution_count": null,
   "id": "126c6484-96b8-4cc1-a6db-5c6577f4814e",
   "metadata": {},
   "outputs": [],
   "source": []
  },
  {
   "cell_type": "code",
   "execution_count": null,
   "id": "46282af0-5ace-439c-9ab5-0fda938050f4",
   "metadata": {},
   "outputs": [],
   "source": [
    "#Task 2 (cont'd)\n",
    "\n",
    "#b. Write product information to a file named \"product_detail.txt\":\n",
    "\n",
    "#Product information includes product Id, name, price, quantity, and total price.\n",
    "\n",
    "#Handle potential file I/O errors"
   ]
  },
  {
   "cell_type": "code",
   "execution_count": 7,
   "id": "d931e92b-c885-4f7c-acf6-f0edce638576",
   "metadata": {},
   "outputs": [
    {
     "name": "stdout",
     "output_type": "stream",
     "text": [
      "Product details written to 'product_detail.txt' successfully.\n"
     ]
    }
   ],
   "source": [
    "#TASK2\n",
    "class Product:\n",
    "    def __init__(self, product_id, name, price, quantity):\n",
    "        self.product_id = product_id\n",
    "        self.name = name\n",
    "        self.price = price\n",
    "        self.quantity = quantity\n",
    "\n",
    "    def calculate_total_price(self):\n",
    "        return self.price * self.quantity\n",
    "\n",
    "    def format_product(self):\n",
    "        total_price = self.calculate_total_price()\n",
    "        return f\"Product ID: {self.product_id}, Name: {self.name}, Price: ${self.price:.2f}, Quantity: {self.quantity}, Total Price: ${total_price:.2f}\"\n",
    "\n",
    "# Create two product instances\n",
    "product1 = Product(1001, \"The Blue Umbrella\", 2.0, 12)\n",
    "product2 = Product(1002, \"The Room on the Roof\", 3.0, 10)\n",
    "\n",
    "# List to hold product information\n",
    "products = [product1, product2]\n",
    "\n",
    "# Writing product information to file with the proper I/O error handling\n",
    "try:\n",
    "    with open(\"product_detail.txt\", \"w\") as file:\n",
    "        for product in products:\n",
    "            file.write(product.format_product() + \"\\n\")\n",
    "    print(\"Product details written to 'product_detail.txt' successfully.\")\n",
    "except FileNotFoundError:\n",
    "    print(\"Error: The file path was not found.\")\n",
    "except IOError as e:\n",
    "    print(f\"An I/O error occurred: {e}\")\n"
   ]
  },
  {
   "cell_type": "code",
   "execution_count": null,
   "id": "6816c056-a57a-4e88-b948-364e11e97590",
   "metadata": {},
   "outputs": [],
   "source": []
  },
  {
   "cell_type": "code",
   "execution_count": null,
   "id": "6ebf80a8-36aa-4454-880f-adbea9a3cb47",
   "metadata": {},
   "outputs": [],
   "source": [
    "#Task 3\n",
    "\n",
    "#Read the product information from a file:\n",
    "\n",
    "#a. File Handling:\n",
    "\n",
    "#Open the specified file (filename) in read mode (\"r\") using a try...except block.\n",
    "\n",
    "#Catch exceptions for various file-related errors:\n",
    "\n",
    "#IsADirectoryError: If the provided filename is a directory, not a file.\n",
    "\n",
    "#FileNotFoundError: If the specified file doesn't exist.\n",
    "\n",
    "#Task 3 (cont'd)\n",
    "\n",
    "#PermissionError: If the program lacks permission to access the file.\n",
    "\n",
    "#Exception: for any unexpected errors.\n",
    "\n",
    "#Include a finally block to ensure the file is closed, regardless of exceptions."
   ]
  },
  {
   "cell_type": "code",
   "execution_count": 19,
   "id": "29fac222-e8ff-4709-adf6-3577f4e1d550",
   "metadata": {},
   "outputs": [],
   "source": [
    "def read_from_file(filename):\n",
    "    try:\n",
    "        with open(filename, 'r') as file:\n",
    "            print(file.read())\n",
    "    except IsADirectoryError:\n",
    "        print(f\"{filename} is a directory, not a file.\")\n",
    "    except FileNotFoundError:\n",
    "        print(f\"{filename} not found.\")\n",
    "    except PermissionError:\n",
    "        print(f\"No permission to access {filename}.\")\n",
    "    except Exception as e:\n",
    "        print(f\"An error occurred: {e}\")\n",
    "    finally:\n",
    "        print(\"File reading completed.\")"
   ]
  },
  {
   "cell_type": "code",
   "execution_count": 20,
   "id": "7efb7d77-c244-4f8f-8149-350f63dc7f55",
   "metadata": {},
   "outputs": [
    {
     "name": "stdout",
     "output_type": "stream",
     "text": [
      "ID: 1001, Name: The Blue Umbrella, Price: 2.0, Quantity: 12, Total Price: 24.00\n",
      "ID: 1002, Name: The Room on the Roof, Price: 3.0, Quantity: 10, Total Price: 30.00\n",
      "\n",
      "File reading completed.\n"
     ]
    }
   ],
   "source": [
    "read_from_file(\"product_detail.txt\")"
   ]
  },
  {
   "cell_type": "code",
   "execution_count": null,
   "id": "f7eb7fe7-a87a-4288-9c96-ea3bb58dbc2a",
   "metadata": {},
   "outputs": [],
   "source": []
  },
  {
   "cell_type": "code",
   "execution_count": null,
   "id": "afef85d6-4ad0-403d-8100-20503a9c4c94",
   "metadata": {},
   "outputs": [],
   "source": [
    "#Task 3 (cont'd)\n",
    "\n",
    "#b. Data Processing:\n",
    "\n",
    "#Skip the first line of the file (assuming it's a header row).\n",
    "\n",
    "#Read the remaining lines using readlines().\n",
    "\n",
    "#Iterate through each line:\n",
    "\n",
    "#Split the line by commas using strip().split(\",\") to extract product data.\n",
    "\n",
    "#Convert the extracted data into appropriate data types (e.g., int for quantity, float for price, etc.) within a try...except block.\n",
    "\n",
    "#Task 3 (cont'd)\n",
    "\n",
    "#Catche ValueError exceptions if data conversion fails, indicating an error parsing the line.\n",
    "\n",
    "#If data conversion is successful, create a Product object (assuming a Product class exists) and populate its attributes with the extracted data.\n",
    "#Call a display_product() method (assuming it exists within the Product class) to format the product\n",
    "\n",
    "#information for display. Append the formatted product information to a products list."
   ]
  },
  {
   "cell_type": "code",
   "execution_count": 22,
   "id": "ba3b1837-a3e8-4959-9c94-4077be07a242",
   "metadata": {},
   "outputs": [],
   "source": [
    "class Product:\n",
    "    def __init__(self, product_id, name, price, quantity):\n",
    "        self.product_id = product_id\n",
    "        self.name = name\n",
    "        self.price = price\n",
    "        self.quantity = quantity\n",
    "\n",
    "    def display_product(self):\n",
    "        return f\"ID: {self.product_id}, Name: {self.name}, Price: {self.price}, Quantity: {self.quantity}\"\n",
    "\n",
    "def read_and_process_file(filename):\n",
    "    products = []\n",
    "    try:\n",
    "        with open(filename, 'r') as file:\n",
    "            lines = file.readlines()[1:]  # Skip header\n",
    "            for line in lines:\n",
    "                try:\n",
    "                    product_id, name, price, quantity = line.strip().split(\",\")\n",
    "                    product = Product(int(product_id),name,float(price),int(quantity))\n",
    "                    products.append(product)\n",
    "                except ValueError:\n",
    "                    print(f\"Error parsing line: {line.strip()}\")\n",
    "    except IsADirectoryError:\n",
    "        print(f\"{filename} is a directory, not a file.\")\n",
    "    except FileNotFoundError:\n",
    "        print(f\"{filename} not found.\")\n",
    "    except PermissionError:\n",
    "        print(f\"No permission to access {filename}.\")\n",
    "    except Exception as e:\n",
    "        print(f\"An unexpected error occurred: {e}\")\n",
    "    finally:\n",
    "        print(\"File processing completed.\")\n",
    "\n",
    "    for product in products:\n",
    "        print(product.display_product())"
   ]
  },
  {
   "cell_type": "code",
   "execution_count": 23,
   "id": "348940e8-7d55-43fc-9109-80c2e9ddaa38",
   "metadata": {},
   "outputs": [
    {
     "name": "stdout",
     "output_type": "stream",
     "text": [
      "Error parsing line: ID: 1002, Name: The Room on the Roof, Price: 3.0, Quantity: 10, Total Price: 30.00\n",
      "File processing completed.\n"
     ]
    }
   ],
   "source": [
    "read_and_process_file(\"product_detail.txt\")"
   ]
  },
  {
   "cell_type": "code",
   "execution_count": null,
   "id": "1fc81c7a-3c66-4744-946e-7c0312cf9daa",
   "metadata": {},
   "outputs": [],
   "source": []
  },
  {
   "cell_type": "code",
   "execution_count": null,
   "id": "e72bf07b-fd1a-4542-96d1-bd6d5284aa7b",
   "metadata": {},
   "outputs": [],
   "source": [
    "#Task 3 (cont'd)\n",
    "\n",
    "#c. Output:\n",
    "\n",
    "#If any products were successfully processed, iterate through the products list and print each product's information"
   ]
  },
  {
   "cell_type": "code",
   "execution_count": 31,
   "id": "688976ea-8a90-4d23-af96-a75b4e5df50f",
   "metadata": {},
   "outputs": [],
   "source": [
    "class Product:\n",
    "    def __init__(self, product_id, name, price, quantity):\n",
    "        self.product_id = product_id\n",
    "        self.name = name\n",
    "        self.price = price\n",
    "        self.quantity = quantity\n",
    "\n",
    "    def display_product(self):\n",
    "        return f\"ID: {self.product_id}, Name: {self.name}, Price: {self.price}, Quantity: {self.quantity}\"\n",
    "\n",
    "def read_and_process_file(filename):\n",
    "    products = []\n",
    "    try:\n",
    "        with open(filename, 'r') as file:\n",
    "            lines = file.readlines()[1:]  # Skip header\n",
    "            for line in lines:\n",
    "                try:\n",
    "                    product_id, name, price, quantity = line.strip().split(\",\")\n",
    "                    product = Product(int(product_id),name,float(price),int(quantity))\n",
    "                    products.append(product)\n",
    "                except ValueError:\n",
    "                    print(f\"Error parsing line: {line.strip()}\")\n",
    "    except IsADirectoryError:\n",
    "        print(f\"{filename} is a directory, not a file.\")\n",
    "    except FileNotFoundError:\n",
    "        print(f\"{filename} not found.\")\n",
    "    except PermissionError:\n",
    "        print(f\"No permission to access {filename}.\")\n",
    "    except Exception as e:\n",
    "        print(f\"An unexpected error occurred: {e}\")\n",
    "    finally:\n",
    "        print(\"File processing completed.\")\n",
    "    \n",
    "    if products:\n",
    "        print(\"Processed Products:\")\n",
    "        for product in products:\n",
    "            print(product.display_product())\n",
    "    else:\n",
    "        print(\"No products to display.\")\n"
   ]
  },
  {
   "cell_type": "code",
   "execution_count": 32,
   "id": "0e0ac9a5-f09a-4ae4-976c-b06df778db5b",
   "metadata": {},
   "outputs": [
    {
     "name": "stdout",
     "output_type": "stream",
     "text": [
      "Error parsing line: ID: 1002, Name: The Room on the Roof, Price: 3.0, Quantity: 10, Total Price: 30.00\n",
      "File processing completed.\n",
      "No products to display.\n"
     ]
    }
   ],
   "source": [
    "read_and_process_file(\"product_detail.txt\")"
   ]
  }
 ],
 "metadata": {
  "kernelspec": {
   "display_name": "Python 3 (ipykernel)",
   "language": "python",
   "name": "python3"
  },
  "language_info": {
   "codemirror_mode": {
    "name": "ipython",
    "version": 3
   },
   "file_extension": ".py",
   "mimetype": "text/x-python",
   "name": "python",
   "nbconvert_exporter": "python",
   "pygments_lexer": "ipython3",
   "version": "3.12.4"
  }
 },
 "nbformat": 4,
 "nbformat_minor": 5
}

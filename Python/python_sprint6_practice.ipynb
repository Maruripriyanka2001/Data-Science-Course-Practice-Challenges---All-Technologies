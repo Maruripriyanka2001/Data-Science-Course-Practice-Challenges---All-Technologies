{
 "cells": [
  {
   "cell_type": "code",
   "execution_count": 62,
   "id": "3a7ec123-02c3-4da2-b2c0-eac59bdcf829",
   "metadata": {},
   "outputs": [
    {
     "name": "stdout",
     "output_type": "stream",
     "text": [
      "Enrollment_ID:101 Student_name:priya Course_name:python Age:20 Marks:80 Grade:none\n"
     ]
    }
   ],
   "source": [
    "#TASK1\n",
    "class student:\n",
    "    def __init__(self,enrollment_ID,student_name,course_name,age,marks,grade):\n",
    "        self.enrollment_ID=enrollment_ID\n",
    "        self.student_name=student_name\n",
    "        self.course_name=course_name\n",
    "        self.age=age\n",
    "        self.marks=marks\n",
    "        self.grade=grade\n",
    "        \n",
    "    def show_details(self):\n",
    "        print(f'Enrollment_ID:{self.enrollment_ID} Student_name:{self.student_name} Course_name:{self.course_name} Age:{self.age} Marks:{self.marks} Grade:{self.grade}')\n",
    "obj=student(101,'priya','python',20,80,'none')    \n",
    "\n",
    "obj.show_details()\n",
    "    "
   ]
  },
  {
   "cell_type": "code",
   "execution_count": 21,
   "id": "848c9de0-a054-46c9-add9-feb1f70db109",
   "metadata": {},
   "outputs": [],
   "source": [
    "#TASK2\n",
    "class student:\n",
    "    def __init__(self):\n",
    "        self.age=int(input(\"enter age:\"))\n",
    "    def age_validation(self):\n",
    "        if self.age<3 or self.age>60:\n",
    "            print(\"age not valid\")\n",
    "            "
   ]
  },
  {
   "cell_type": "code",
   "execution_count": 25,
   "id": "b32c0146-5d4f-4b71-9ebd-2fa938fde082",
   "metadata": {},
   "outputs": [
    {
     "name": "stdin",
     "output_type": "stream",
     "text": [
      "enter age: 2\n"
     ]
    },
    {
     "name": "stdout",
     "output_type": "stream",
     "text": [
      "age not valid\n"
     ]
    }
   ],
   "source": [
    "obj1=student()\n",
    "obj1.age_validation()"
   ]
  },
  {
   "cell_type": "code",
   "execution_count": 42,
   "id": "57704f1d-2f38-489c-a747-fe2f957198ba",
   "metadata": {},
   "outputs": [],
   "source": [
    "#TASK3\n",
    "class student:\n",
    "    def __init__(self):\n",
    "        self.marks=int(input(\"enter marks\"))\n",
    "    def validate_and_converted_marks(self):\n",
    "        if self.marks>=0 and self.marks<=44:\n",
    "            percentage=(self.marks/44)*100\n",
    "            return percentage\n",
    "        else:\n",
    "            return None"
   ]
  },
  {
   "cell_type": "code",
   "execution_count": 43,
   "id": "d813183d-fb94-4e00-a38d-f048e4ac6aee",
   "metadata": {},
   "outputs": [
    {
     "name": "stdin",
     "output_type": "stream",
     "text": [
      "enter marks 35\n"
     ]
    },
    {
     "data": {
      "text/plain": [
       "79.54545454545455"
      ]
     },
     "execution_count": 43,
     "metadata": {},
     "output_type": "execute_result"
    }
   ],
   "source": [
    "obj3=student()\n",
    "obj3.validate_and_converted_marks()"
   ]
  },
  {
   "cell_type": "code",
   "execution_count": 68,
   "id": "dc8a4a46-28ba-4844-82cd-bf918850dd57",
   "metadata": {},
   "outputs": [
    {
     "name": "stdin",
     "output_type": "stream",
     "text": [
      "Enter marks:  35\n"
     ]
    },
    {
     "name": "stdout",
     "output_type": "stream",
     "text": [
      "Marks: 35, Percentage: 79.55%, Grade: Grade B\n"
     ]
    }
   ],
   "source": [
    "class Student:\n",
    "    def __init__(self):\n",
    "        self.marks = int(input(\"Enter marks: \"))\n",
    "        self.percentage = None  \n",
    "    \n",
    "    def validate_and_convert_marks(self):\n",
    "       \n",
    "        if 0 <= self.marks <= 44:\n",
    "            self.percentage = (self.marks / 44) * 100\n",
    "            return True\n",
    "        else:\n",
    "            print(\"Invalid marks! Marks should be between 0 and 44.\")\n",
    "            return False\n",
    "    \n",
    "    def calculate_grade(self):\n",
    "        if self.validate_and_convert_marks():\n",
    "            if self.percentage > 100:\n",
    "                self.grade = 'Impossible'\n",
    "            elif self.percentage >= 80.01:\n",
    "                self.grade = 'Grade A'\n",
    "            elif self.percentage >= 60.01:\n",
    "                self.grade = 'Grade B'\n",
    "            elif self.percentage >= 40.01:\n",
    "                self.grade = 'Grade C'\n",
    "            elif self.percentage >= 20.01:\n",
    "                self.grade = 'Grade D'\n",
    "            else:\n",
    "                self.grade = 'Grade F'\n",
    "        else:\n",
    "            self.grade = 'Invalid'\n",
    "\n",
    "    def display_grade(self):\n",
    "        if self.percentage is not None:\n",
    "            print(f\"Marks: {self.marks}, Percentage: {self.percentage:.2f}%, Grade: {self.grade}\")\n",
    "        else:\n",
    "            print(\"Invalid marks. No grade calculated.\")\n",
    "\n",
    "# Example usage:\n",
    "student1 = Student()\n",
    "student1.calculate_grade()\n",
    "student1.display_grade()\n"
   ]
  },
  {
   "cell_type": "code",
   "execution_count": 1,
   "id": "a6474d4b-0345-48eb-8297-c77403bd9f83",
   "metadata": {},
   "outputs": [
    {
     "name": "stdout",
     "output_type": "stream",
     "text": [
      "Enrollment_ID:101 Student_name:priya Course_name:python Age:20 Marks:80 Grade:none\n"
     ]
    }
   ],
   "source": [
    "#TASK\n",
    "class student:\n",
    "    def __init__(self,enrollment_ID,student_name,course_name,age,marks,grade):\n",
    "        self.enrollment_ID=enrollment_ID\n",
    "        self.student_name=student_name\n",
    "        self.course_name=course_name\n",
    "        self.age=age\n",
    "        self.marks=marks\n",
    "        self.grade=grade\n",
    "    def display_report(self):\n",
    "        # Generating the performance report\n",
    "        report = (\n",
    "            f\"Student Performance Report:\\n\"\n",
    "            f\"----------------------------\\n\"\n",
    "            f\"Enrollment ID: {self.enrollment_ID}\\n\"\n",
    "            f\"Student Name : {self.student_name}\\n\"\n",
    "            f\"Course Name  : {self.course_name}\\n\"\n",
    "            f\"Age          : {self.age}\\n\"\n",
    "            f\"Marks        : {self.marks:.2f}%\\n\"\n",
    "            f\"Grade        : {self.grade}\\n\"\n",
    "        )\n",
    "        print(report)   \n",
    "    def show_details(self):\n",
    "        print(f'Enrollment_ID:{self.enrollment_ID} Student_name:{self.student_name} Course_name:{self.course_name} Age:{self.age} Marks:{self.marks} Grade:{self.grade}')\n",
    "obj=student(101,'priya','python',20,80,'none')    \n",
    "\n",
    "obj.show_details()"
   ]
  },
  {
   "cell_type": "code",
   "execution_count": 2,
   "id": "7b302e1d-0feb-489f-a7c6-ab7243f58f79",
   "metadata": {},
   "outputs": [],
   "source": [
    "#TASK6\n",
    "class Guardian:\n",
    "    total_guardian=0\n",
    "    guardian_list=[]\n",
    "    \n",
    "    def __init__(self):\n",
    "        self.enrollment_ID=int(input(\"enter enrollment id\"))\n",
    "        self.name=input(\"enter a name\")\n",
    "    @classmethod\n",
    "    def add_guardian(cls):\n",
    "        while True:\n",
    "            guardian=cls()\n",
    "            cls.guardian_list.append(guardian)\n",
    "            cls.total_guardian +=1\n",
    "            more=input(\"do you want to enter another guardian?(yes/no):\").strip().lower()\n",
    "            if more!='yes':\n",
    "                break\n",
    "        cls.display_guardians()\n",
    "    @classmethod\n",
    "    def display_guardians(cls):\n",
    "        print(\"\\n-- guardian details--\")\n",
    "        for guardian in cls.guardian_list:\n",
    "            print(f\"enrollment_ID:{guardian.enrollment_ID},name:{guardian.name}\")\n",
    "        print(f\"total guardians:{cls.total_guardian}\")"
   ]
  },
  {
   "cell_type": "code",
   "execution_count": 3,
   "id": "8672c4e4-f63a-496d-807e-652bc0bf2379",
   "metadata": {},
   "outputs": [
    {
     "name": "stdin",
     "output_type": "stream",
     "text": [
      "enter enrollment id 101\n",
      "enter a name rama\n",
      "do you want to enter another guardian?(yes/no): yes\n",
      "enter enrollment id 102\n",
      "enter a name devi\n",
      "do you want to enter another guardian?(yes/no): no\n"
     ]
    },
    {
     "name": "stdout",
     "output_type": "stream",
     "text": [
      "\n",
      "-- guardian details--\n",
      "enrollment_ID:101,name:rama\n",
      "enrollment_ID:102,name:devi\n",
      "total guardians:2\n"
     ]
    }
   ],
   "source": [
    "Guardian.add_guardian()"
   ]
  }
 ],
 "metadata": {
  "kernelspec": {
   "display_name": "Python 3 (ipykernel)",
   "language": "python",
   "name": "python3"
  },
  "language_info": {
   "codemirror_mode": {
    "name": "ipython",
    "version": 3
   },
   "file_extension": ".py",
   "mimetype": "text/x-python",
   "name": "python",
   "nbconvert_exporter": "python",
   "pygments_lexer": "ipython3",
   "version": "3.12.4"
  }
 },
 "nbformat": 4,
 "nbformat_minor": 5
}

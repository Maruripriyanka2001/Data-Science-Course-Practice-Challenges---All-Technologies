{
 "cells": [
  {
   "cell_type": "code",
   "execution_count": 3,
   "id": "49700714-2e14-4178-9a3c-9c74790a87ae",
   "metadata": {},
   "outputs": [
    {
     "name": "stdout",
     "output_type": "stream",
     "text": [
      "34\n",
      "140729970146776\n",
      "<class 'int'>\n",
      "priya\n",
      "2137902168512\n",
      "<class 'str'>\n",
      "maruri\n",
      "2137902169040\n",
      "<class 'str'>\n",
      "50\n",
      "140729970147288\n",
      "<class 'int'>\n"
     ]
    }
   ],
   "source": [
    "# TASK1 :Creating variable as roll number and assign value and print roll number and id and type\n",
    "roll_no=34\n",
    "print(roll_no) #printing roll_no\n",
    "print(id(roll_no)) #printing the identity of roll_no\n",
    "print(type(roll_no)) #printing the type of roll_no\n",
    "\n",
    "#Creating variable as firstname and assign string value and print firstname and id and type\n",
    "firstname='priya'\n",
    "print(firstname) #printing roll_no\n",
    "print(id(firstname)) #printing the identity\n",
    "print(type(firstname)) # prining the type of firstname\n",
    "\n",
    "#Creating variable as lasttname and assign string value and print lastname and id and type\n",
    "lastname='maruri'\n",
    "print(lastname) #printing roll_no\n",
    "print(id(lastname)) #printing the identity\n",
    "print(type(lastname)) # prining the type of firstname\n",
    "\n",
    "#Creating variable as maxmarks and value value and print maxmarks and id and type\n",
    "maxmarks=50 \n",
    "print(maxmarks)   # printing maxmarks\n",
    "print(id(maxmarks))  #printing the identity\n",
    "print(type(maxmarks))  #printing the type of maxmarks\n"
   ]
  },
  {
   "cell_type": "code",
   "execution_count": 7,
   "id": "ea763869-f8f2-41ce-ae98-1433f1340f24",
   "metadata": {},
   "outputs": [
    {
     "ename": "SyntaxError",
     "evalue": "invalid syntax (2113374833.py, line 6)",
     "output_type": "error",
     "traceback": [
      "\u001b[1;36m  Cell \u001b[1;32mIn[7], line 6\u001b[1;36m\u001b[0m\n\u001b[1;33m    var$2=2 # there should not be the symbol between the name\u001b[0m\n\u001b[1;37m       ^\u001b[0m\n\u001b[1;31mSyntaxError\u001b[0m\u001b[1;31m:\u001b[0m invalid syntax\n"
     ]
    }
   ],
   "source": [
    "# TASK2 Execute following expression individually and explain\n",
    "\n",
    "#var1=2 # it is correct because the variable should start with a-z\n",
    "#2var=2 # variable should be not start with numbers\n",
    "#var 1=2 #There should not be space between the var and 1\n",
    "var$2=2 # there should not be the symbol between the name"
   ]
  },
  {
   "cell_type": "code",
   "execution_count": 13,
   "id": "8aa5f335-7a5d-4d52-882b-db1d687adaf5",
   "metadata": {},
   "outputs": [
    {
     "ename": "SyntaxError",
     "evalue": "invalid syntax (1151452097.py, line 5)",
     "output_type": "error",
     "traceback": [
      "\u001b[1;36m  Cell \u001b[1;32mIn[13], line 5\u001b[1;36m\u001b[0m\n\u001b[1;33m    def=12 #it is a keyword\u001b[0m\n\u001b[1;37m       ^\u001b[0m\n\u001b[1;31mSyntaxError\u001b[0m\u001b[1;31m:\u001b[0m invalid syntax\n"
     ]
    }
   ],
   "source": [
    "# TASK3 : ASSIGNING VALUES TO VARIABLES\n",
    "#Class=15 # it is correct beacuse variable should be start with capital letter\n",
    "#class=14 # it is wrong neacuse class is a keyword\n",
    "DEF=13 #it is correct \n",
    "def=12 #it is a keyword\n",
    "a=TRUE # it is wrong because TRUE is not define\n",
    "b=false # it is wrong the in false the letter f should be capital\n"
   ]
  },
  {
   "cell_type": "code",
   "execution_count": 19,
   "id": "9a678307-f4da-4668-ac6d-8ae30932c131",
   "metadata": {},
   "outputs": [
    {
     "name": "stdout",
     "output_type": "stream",
     "text": [
      "90.55\n",
      "2137915534192\n",
      "<class 'float'>\n",
      "95.55\n",
      "2137915535664\n",
      "<class 'float'>\n"
     ]
    }
   ],
   "source": [
    "#TASK4 :USING ID()\n",
    "#a: create a variable named marks assign value between 0 to 100 and print value and id and type\n",
    "marks=90.55\n",
    "print(marks) #printing the marks\n",
    "print(id(marks)) # printing identity of marks\n",
    "print(type(marks)) # printing the type of marks\n",
    "\n",
    "#b:change the value of marks to any other float value between 0 to 100 and print value and id and type\n",
    "marks=95.55\n",
    "print(marks) #printing the marks\n",
    "print(id(marks)) # printing identity of marks\n",
    "print(type(marks)) # printing the type of marks\n",
    "\n",
    "# c\n",
    "#The id of marks changes because when you assign a new value to a variable in Python, it creates a new object in memory, and the variable reference is updated to point to this new object.\n",
    "\n"
   ]
  },
  {
   "cell_type": "code",
   "execution_count": 23,
   "id": "86fd29bd-386c-4e6f-9c6e-2fb2df0865f9",
   "metadata": {},
   "outputs": [
    {
     "name": "stdout",
     "output_type": "stream",
     "text": [
      "expected_output:0.96%\n",
      "firstnamelastname\n",
      "firstnamelastname scored 0.96%\n"
     ]
    }
   ],
   "source": [
    "# TASK5 :FORMATTING THE OUTPUT\n",
    "#a: dividing marks by maxmarks\n",
    "maxmarks=100\n",
    "expected_output=marks/maxmarks\n",
    "print('expected_output:{:.2f}%'.format(expected_output))\n",
    "\n",
    "#b:joining lastname and firstname\n",
    "fullname='firstname'+'lastname'\n",
    "print(fullname)\n",
    "\n",
    "#c:print the variable with fullname with the text scored followed by percentage marks\n",
    "scored=expected_output\n",
    "print('{} scored {:.2f}%'.format(fullname,scored))\n"
   ]
  },
  {
   "cell_type": "code",
   "execution_count": 28,
   "id": "f5f15960-7f42-4c52-bcc7-748dd02bbbe3",
   "metadata": {},
   "outputs": [
    {
     "data": {
      "text/plain": [
       "0"
      ]
     },
     "execution_count": 28,
     "metadata": {},
     "output_type": "execute_result"
    }
   ],
   "source": [
    "# TASK6:Excute the texpression\n",
    "#1+\"2 #It is wrong because it is unsupproted operand type\n",
    "#\"1\"+\"2\" #It is true \n",
    "#1/2 #output is 0.5\n",
    "#1//2 #output is 0"
   ]
  },
  {
   "cell_type": "code",
   "execution_count": 39,
   "id": "17773099-28f9-4ddf-a6cc-beb792842f7a",
   "metadata": {},
   "outputs": [
    {
     "data": {
      "text/plain": [
       "True"
      ]
     },
     "execution_count": 39,
     "metadata": {},
     "output_type": "execute_result"
    }
   ],
   "source": [
    "#TASK7:Excutes the commands\n",
    "#True and True # output is True\n",
    "#True and False #output is false\n",
    "#False or True #output is true\n",
    "#False or False #output is false"
   ]
  },
  {
   "cell_type": "code",
   "execution_count": 46,
   "id": "80e6eb91-adad-4fb7-a822-fab2be259990",
   "metadata": {},
   "outputs": [
    {
     "data": {
      "text/plain": [
       "False"
      ]
     },
     "execution_count": 46,
     "metadata": {},
     "output_type": "execute_result"
    }
   ],
   "source": [
    "# TASK8:compare firstname and lastname using in operator\n",
    "#firstname in lastname:it is false because there no matching name \n",
    "firstname is lastname #priya and maruri are two different there is no matching one"
   ]
  },
  {
   "cell_type": "code",
   "execution_count": 49,
   "id": "d62d5baa-3253-460e-aa07-4e53ddc30071",
   "metadata": {},
   "outputs": [
    {
     "name": "stdout",
     "output_type": "stream",
     "text": [
      "66\n",
      "1024\n"
     ]
    }
   ],
   "source": [
    "#TASK9:given a=4,b=3,c=2,d=a**b+c, e=a**(b+c)\n",
    "a=4\n",
    "b=3\n",
    "c=2\n",
    "d=a**b+c\n",
    "print(d)\n",
    "e=a**(b+c)\n",
    "print(e)\n",
    "# the values of d and e are different beacuse od precedence operator it means in compared to both the d has parenthisis it should find first so it becomes the 1024.\n"
   ]
  },
  {
   "cell_type": "code",
   "execution_count": null,
   "id": "43142565-372e-4e9f-9856-923e4981dd02",
   "metadata": {},
   "outputs": [],
   "source": []
  }
 ],
 "metadata": {
  "kernelspec": {
   "display_name": "Python 3 (ipykernel)",
   "language": "python",
   "name": "python3"
  },
  "language_info": {
   "codemirror_mode": {
    "name": "ipython",
    "version": 3
   },
   "file_extension": ".py",
   "mimetype": "text/x-python",
   "name": "python",
   "nbconvert_exporter": "python",
   "pygments_lexer": "ipython3",
   "version": "3.12.4"
  }
 },
 "nbformat": 4,
 "nbformat_minor": 5
}

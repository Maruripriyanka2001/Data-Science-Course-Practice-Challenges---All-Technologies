{
 "cells": [
  {
   "cell_type": "code",
   "execution_count": 6,
   "id": "d7bfa815-2d85-4c3e-8346-03cc0e6496ca",
   "metadata": {},
   "outputs": [
    {
     "name": "stdin",
     "output_type": "stream",
     "text": [
      "enter a word madam\n"
     ]
    },
    {
     "name": "stdout",
     "output_type": "stream",
     "text": [
      "palindrome\n"
     ]
    }
   ],
   "source": [
    "#task1 checking a palindrome or not\n",
    "def palindrome():\n",
    "    b=input(\"enter a word\")\n",
    "    if(b==b[::-1]):\n",
    "        print(\"palindrome\")\n",
    "    else:\n",
    "        print(\"not palindrome\")\n",
    "palindrome()"
   ]
  },
  {
   "cell_type": "code",
   "execution_count": 22,
   "id": "4e932726-d7e9-4757-bc19-d91937394cd8",
   "metadata": {},
   "outputs": [
    {
     "name": "stdin",
     "output_type": "stream",
     "text": [
      "enter a words [zebra,cat,ant]\n"
     ]
    },
    {
     "data": {
      "text/plain": [
       "['ant', 'cat', 'zebra']"
      ]
     },
     "execution_count": 22,
     "metadata": {},
     "output_type": "execute_result"
    }
   ],
   "source": [
    "#TASK2 \n",
    "def task2():\n",
    "    a=(input(\"enter a words\"))\n",
    "    b=[i for i in a.strip('[]').split(',')]\n",
    "    b.sort()\n",
    "    return b\n",
    "task2()\n",
    "    \n",
    "    "
   ]
  },
  {
   "cell_type": "code",
   "execution_count": 14,
   "id": "8c00c3eb-8516-40dd-a7a4-21452414a669",
   "metadata": {},
   "outputs": [
    {
     "name": "stdin",
     "output_type": "stream",
     "text": [
      "Enter characters in list format:  ['H', 'e', 'l', 'l', 'o'] \n"
     ]
    },
    {
     "name": "stdout",
     "output_type": "stream",
     "text": [
      "Converted String: Hello\n"
     ]
    }
   ],
   "source": [
    "#TASK3\n",
    "def convert_to_string():\n",
    "    characters = input(\"Enter characters in list format: \")\n",
    "    char_list = eval(characters)\n",
    "    result_string = ''.join(char_list)\n",
    "\n",
    "    print(\"Converted String:\", result_string)\n",
    "\n",
    "convert_to_string()\n"
   ]
  },
  {
   "cell_type": "code",
   "execution_count": 54,
   "id": "ca11ef59-2fe9-4ef1-93f9-c9ae0bd4818c",
   "metadata": {},
   "outputs": [
    {
     "name": "stdout",
     "output_type": "stream",
     "text": [
      "ALPHA\n"
     ]
    }
   ],
   "source": [
    "#TASK3 JOINING LIST TO STRING\n",
    "def task3():\n",
    "    ch=['A','L','P','H','A']\n",
    "    res=''.join(ch)\n",
    "    print(res)\n",
    "task3()"
   ]
  },
  {
   "cell_type": "code",
   "execution_count": 68,
   "id": "607218d2-f5b6-4df8-9013-b731b7b8c3ae",
   "metadata": {},
   "outputs": [
    {
     "name": "stdin",
     "output_type": "stream",
     "text": [
      "enter number 1,2,3,45,6,77,8990,45\n"
     ]
    },
    {
     "name": "stdout",
     "output_type": "stream",
     "text": [
      "max vaalue is 8990\n",
      "min value is  1\n"
     ]
    }
   ],
   "source": [
    "#TASK4 FINDING MAX AND MIN VALUES\n",
    "def task4():\n",
    "    data=input(\"enter number\")\n",
    "    n=[int(i) for i in data.split(',')]\n",
    "    max_n=max(n)\n",
    "    min_n=min(n)\n",
    "    print(\"max vaalue is\",(max_n))\n",
    "    print(\"min value is \",(min_n))\n",
    "task4()"
   ]
  },
  {
   "cell_type": "code",
   "execution_count": 2,
   "id": "49dbcffc-1dc3-4770-b9f5-caf9163a7b11",
   "metadata": {},
   "outputs": [
    {
     "name": "stdin",
     "output_type": "stream",
     "text": [
      "Enter the number of items:  2\n",
      "Enter the name for item :  item1\n",
      "Enter the price for item1:  45\n",
      "Enter the name for item :  item2\n",
      "Enter the price for item2:  678\n"
     ]
    },
    {
     "name": "stdout",
     "output_type": "stream",
     "text": [
      "Max value 678.0\n",
      "Min value 45.0\n"
     ]
    }
   ],
   "source": [
    "#TASK5\n",
    "def task5():\n",
    "    items = {}\n",
    "    \n",
    "    num_items = int(input(\"Enter the number of items: \"))\n",
    "    for i in range(num_items):\n",
    "        item_name = input(\"Enter the name for item : \")\n",
    "        item_price = float(input(f\"Enter the price for {item_name}: \"))\n",
    "        items[item_name] = item_price\n",
    "\n",
    "    max_value = max(items.values())\n",
    "    min_value = min(items.values())\n",
    "\n",
    "    print(\"Max value\",max_value)\n",
    "    print(\"Min value\",min_value)\n",
    "\n",
    "task5()\n"
   ]
  },
  {
   "cell_type": "code",
   "execution_count": 26,
   "id": "c1c44333-0045-4ade-97ce-251725df45f3",
   "metadata": {},
   "outputs": [
    {
     "name": "stdin",
     "output_type": "stream",
     "text": [
      "enter name John Matthew\n",
      "enter age 40\n",
      "enter gender MALE\n",
      "enter ocuupation HR\n"
     ]
    },
    {
     "name": "stdout",
     "output_type": "stream",
     "text": [
      "Name John Matthew\n",
      "Age 40\n",
      "Gender MALE\n",
      "Occupation HR\n"
     ]
    }
   ],
   "source": [
    "#TASK6 GLOBAL\n",
    "def f1():\n",
    "    global name,age,gender,occupation\n",
    "    name=input(\"enter name\")\n",
    "    age=int(input(\"enter age\"))\n",
    "    gender=input(\"enter gender\")\n",
    "    occupation=input(\"enter ocuupation\")\n",
    "def f2():\n",
    "    print(\"Name\",name)\n",
    "    print(\"Age\",age)\n",
    "    print(\"Gender\",gender)\n",
    "    print(\"Occupation\",occupation)\n",
    "f1()\n",
    "f2()\n",
    "    "
   ]
  },
  {
   "cell_type": "code",
   "execution_count": 4,
   "id": "8d5ed6e9-f493-40db-8d61-c8c380b63f90",
   "metadata": {},
   "outputs": [
    {
     "name": "stdout",
     "output_type": "stream",
     "text": [
      "[('green', 1), ('blue', 2), ('yellow', 3), ('black', 4), ('red', 5)]\n"
     ]
    }
   ],
   "source": [
    "#TASK7 sort in ascending order\n",
    "def task7():\n",
    "    color=[('black',4),('green',1),('red',5),('blue',2),('yellow',3)]\n",
    "    color.sort(key=lambda x:x[1])\n",
    "    print(color)\n",
    "task7()"
   ]
  },
  {
   "cell_type": "code",
   "execution_count": 9,
   "id": "4ba5948f-0302-4e7b-b86d-bcf67de31931",
   "metadata": {},
   "outputs": [
    {
     "name": "stdout",
     "output_type": "stream",
     "text": [
      "['Mandy']\n",
      "['Ant']\n"
     ]
    }
   ],
   "source": [
    "#TASK8 print common elements\n",
    "a = [\"Andy\", \"Mandy\", \"Sandy\"]\n",
    "b = [\"Handy\", \"Burgundy\", \"Mandy\"]\n",
    "common_names = list(filter(lambda x: x in b, a))\n",
    "print(common_names)\n",
    "\n",
    "a=[\"Ant\",\"Cat\",\"Mat\"]\n",
    "b=[\"Bat\",\"Hat\",\"Ant\"]\n",
    "common=list(filter(lambda x:x in a,b))\n",
    "print(common)\n",
    "\n",
    "\n"
   ]
  },
  {
   "cell_type": "code",
   "execution_count": 42,
   "id": "9e7c6f8f-c813-4054-aaf5-553a60994ae0",
   "metadata": {},
   "outputs": [
    {
     "name": "stdout",
     "output_type": "stream",
     "text": [
      "[29, 30, 31]\n"
     ]
    }
   ],
   "source": [
    "\n",
    "#TASK9 add two lists\n",
    "c=[12,14,14]\n",
    "d=[17,16,17]\n",
    "l=list(map(lambda x,y:x+y,c,d))\n",
    "print(l)\n"
   ]
  },
  {
   "cell_type": "code",
   "execution_count": 41,
   "id": "7d17f129-b6c6-4a30-ad68-84e4020f421e",
   "metadata": {},
   "outputs": [
    {
     "name": "stdout",
     "output_type": "stream",
     "text": [
      "True\n"
     ]
    }
   ],
   "source": [
    "#TASK10 WORKING WITH DATES\n",
    "def checking(dob, doj):\n",
    "    dob_parts = dob.split('-', 2)\n",
    "    doj_parts = doj.split('-', 2)\n",
    "    \n",
    "    y1 = int(dob_parts[2])  \n",
    "    y2 = int(doj_parts[2])  \n",
    "    age = y2 - y1\n",
    "    if age >= 18:\n",
    "        return True\n",
    "    else:\n",
    "        return False\n",
    "\n",
    "dob = \"12-25-1991\"\n",
    "doj = \"04-25-2020\"\n",
    "print(checking(dob, doj))\n"
   ]
  }
 ],
 "metadata": {
  "kernelspec": {
   "display_name": "Python 3 (ipykernel)",
   "language": "python",
   "name": "python3"
  },
  "language_info": {
   "codemirror_mode": {
    "name": "ipython",
    "version": 3
   },
   "file_extension": ".py",
   "mimetype": "text/x-python",
   "name": "python",
   "nbconvert_exporter": "python",
   "pygments_lexer": "ipython3",
   "version": "3.12.4"
  }
 },
 "nbformat": 4,
 "nbformat_minor": 5
}
